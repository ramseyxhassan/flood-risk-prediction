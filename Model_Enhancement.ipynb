{
 "cells": [
  {
   "cell_type": "code",
   "execution_count": 2,
   "id": "364c7bd2-f158-4121-854b-ce794c900bfb",
   "metadata": {},
   "outputs": [
    {
     "name": "stdout",
     "output_type": "stream",
     "text": [
      "Requirement already satisfied: rioxarray in /opt/conda/lib/python3.10/site-packages (0.15.0)\n",
      "Requirement already satisfied: packaging in /opt/conda/lib/python3.10/site-packages (from rioxarray) (21.3)\n",
      "Requirement already satisfied: rasterio>=1.2 in /opt/conda/lib/python3.10/site-packages (from rioxarray) (1.3.8)\n",
      "Requirement already satisfied: xarray>=0.17 in /opt/conda/lib/python3.10/site-packages (from rioxarray) (0.20.1)\n",
      "Requirement already satisfied: pyproj>=2.2 in /opt/conda/lib/python3.10/site-packages (from rioxarray) (3.6.1)\n",
      "Requirement already satisfied: numpy>=1.21 in /opt/conda/lib/python3.10/site-packages (from rioxarray) (1.21.6)\n",
      "Requirement already satisfied: certifi in /opt/conda/lib/python3.10/site-packages (from pyproj>=2.2->rioxarray) (2023.7.22)\n",
      "Requirement already satisfied: affine in /opt/conda/lib/python3.10/site-packages (from rasterio>=1.2->rioxarray) (2.4.0)\n",
      "Requirement already satisfied: attrs in /opt/conda/lib/python3.10/site-packages (from rasterio>=1.2->rioxarray) (23.1.0)\n",
      "Requirement already satisfied: click>=4.0 in /opt/conda/lib/python3.10/site-packages (from rasterio>=1.2->rioxarray) (8.1.7)\n",
      "Requirement already satisfied: cligj>=0.5 in /opt/conda/lib/python3.10/site-packages (from rasterio>=1.2->rioxarray) (0.7.2)\n",
      "Requirement already satisfied: snuggs>=1.4.1 in /opt/conda/lib/python3.10/site-packages (from rasterio>=1.2->rioxarray) (1.4.7)\n",
      "Requirement already satisfied: click-plugins in /opt/conda/lib/python3.10/site-packages (from rasterio>=1.2->rioxarray) (1.1.1)\n",
      "Requirement already satisfied: setuptools in /opt/conda/lib/python3.10/site-packages (from rasterio>=1.2->rioxarray) (68.2.0)\n",
      "Requirement already satisfied: pandas>=1.1 in /opt/conda/lib/python3.10/site-packages (from xarray>=0.17->rioxarray) (1.4.4)\n",
      "Requirement already satisfied: pyparsing!=3.0.5,>=2.0.2 in /opt/conda/lib/python3.10/site-packages (from packaging->rioxarray) (3.0.9)\n",
      "Requirement already satisfied: python-dateutil>=2.8.1 in /opt/conda/lib/python3.10/site-packages (from pandas>=1.1->xarray>=0.17->rioxarray) (2.8.2)\n",
      "Requirement already satisfied: pytz>=2020.1 in /opt/conda/lib/python3.10/site-packages (from pandas>=1.1->xarray>=0.17->rioxarray) (2022.1)\n",
      "Requirement already satisfied: six>=1.5 in /opt/conda/lib/python3.10/site-packages (from python-dateutil>=2.8.1->pandas>=1.1->xarray>=0.17->rioxarray) (1.16.0)\n",
      "\u001b[33mWARNING: Running pip as the 'root' user can result in broken permissions and conflicting behaviour with the system package manager. It is recommended to use a virtual environment instead: https://pip.pypa.io/warnings/venv\u001b[0m\u001b[33m\n",
      "\u001b[0mRequirement already satisfied: xarray in /opt/conda/lib/python3.10/site-packages (0.20.1)\n",
      "Requirement already satisfied: numpy>=1.18 in /opt/conda/lib/python3.10/site-packages (from xarray) (1.21.6)\n",
      "Requirement already satisfied: pandas>=1.1 in /opt/conda/lib/python3.10/site-packages (from xarray) (1.4.4)\n",
      "Requirement already satisfied: python-dateutil>=2.8.1 in /opt/conda/lib/python3.10/site-packages (from pandas>=1.1->xarray) (2.8.2)\n",
      "Requirement already satisfied: pytz>=2020.1 in /opt/conda/lib/python3.10/site-packages (from pandas>=1.1->xarray) (2022.1)\n",
      "Requirement already satisfied: six>=1.5 in /opt/conda/lib/python3.10/site-packages (from python-dateutil>=2.8.1->pandas>=1.1->xarray) (1.16.0)\n",
      "\u001b[33mWARNING: Running pip as the 'root' user can result in broken permissions and conflicting behaviour with the system package manager. It is recommended to use a virtual environment instead: https://pip.pypa.io/warnings/venv\u001b[0m\u001b[33m\n",
      "\u001b[0mRequirement already satisfied: catboost in /opt/conda/lib/python3.10/site-packages (1.2.2)\n",
      "Requirement already satisfied: graphviz in /opt/conda/lib/python3.10/site-packages (from catboost) (0.20.1)\n",
      "Requirement already satisfied: matplotlib in /opt/conda/lib/python3.10/site-packages (from catboost) (3.5.2)\n",
      "Requirement already satisfied: numpy>=1.16.0 in /opt/conda/lib/python3.10/site-packages (from catboost) (1.21.6)\n",
      "Requirement already satisfied: pandas>=0.24 in /opt/conda/lib/python3.10/site-packages (from catboost) (1.4.4)\n",
      "Requirement already satisfied: scipy in /opt/conda/lib/python3.10/site-packages (from catboost) (1.11.2)\n",
      "Requirement already satisfied: plotly in /opt/conda/lib/python3.10/site-packages (from catboost) (5.9.0)\n",
      "Requirement already satisfied: six in /opt/conda/lib/python3.10/site-packages (from catboost) (1.16.0)\n",
      "Requirement already satisfied: python-dateutil>=2.8.1 in /opt/conda/lib/python3.10/site-packages (from pandas>=0.24->catboost) (2.8.2)\n",
      "Requirement already satisfied: pytz>=2020.1 in /opt/conda/lib/python3.10/site-packages (from pandas>=0.24->catboost) (2022.1)\n",
      "Requirement already satisfied: cycler>=0.10 in /opt/conda/lib/python3.10/site-packages (from matplotlib->catboost) (0.11.0)\n",
      "Requirement already satisfied: fonttools>=4.22.0 in /opt/conda/lib/python3.10/site-packages (from matplotlib->catboost) (4.25.0)\n",
      "Requirement already satisfied: kiwisolver>=1.0.1 in /opt/conda/lib/python3.10/site-packages (from matplotlib->catboost) (1.4.2)\n",
      "Requirement already satisfied: packaging>=20.0 in /opt/conda/lib/python3.10/site-packages (from matplotlib->catboost) (21.3)\n",
      "Requirement already satisfied: pillow>=6.2.0 in /opt/conda/lib/python3.10/site-packages (from matplotlib->catboost) (10.0.0)\n",
      "Requirement already satisfied: pyparsing>=2.2.1 in /opt/conda/lib/python3.10/site-packages (from matplotlib->catboost) (3.0.9)\n",
      "Requirement already satisfied: tenacity>=6.2.0 in /opt/conda/lib/python3.10/site-packages (from plotly->catboost) (8.0.1)\n",
      "\u001b[33mWARNING: Running pip as the 'root' user can result in broken permissions and conflicting behaviour with the system package manager. It is recommended to use a virtual environment instead: https://pip.pypa.io/warnings/venv\u001b[0m\u001b[33m\n",
      "\u001b[0mRequirement already satisfied: geopandas in /opt/conda/lib/python3.10/site-packages (0.14.0)\n",
      "Requirement already satisfied: fiona>=1.8.21 in /opt/conda/lib/python3.10/site-packages (from geopandas) (1.9.4.post1)\n",
      "Requirement already satisfied: packaging in /opt/conda/lib/python3.10/site-packages (from geopandas) (21.3)\n",
      "Requirement already satisfied: pandas>=1.4.0 in /opt/conda/lib/python3.10/site-packages (from geopandas) (1.4.4)\n",
      "Requirement already satisfied: pyproj>=3.3.0 in /opt/conda/lib/python3.10/site-packages (from geopandas) (3.6.1)\n",
      "Requirement already satisfied: shapely>=1.8.0 in /opt/conda/lib/python3.10/site-packages (from geopandas) (2.0.1)\n",
      "Requirement already satisfied: attrs>=19.2.0 in /opt/conda/lib/python3.10/site-packages (from fiona>=1.8.21->geopandas) (23.1.0)\n",
      "Requirement already satisfied: certifi in /opt/conda/lib/python3.10/site-packages (from fiona>=1.8.21->geopandas) (2023.7.22)\n",
      "Requirement already satisfied: click~=8.0 in /opt/conda/lib/python3.10/site-packages (from fiona>=1.8.21->geopandas) (8.1.7)\n",
      "Requirement already satisfied: click-plugins>=1.0 in /opt/conda/lib/python3.10/site-packages (from fiona>=1.8.21->geopandas) (1.1.1)\n",
      "Requirement already satisfied: cligj>=0.5 in /opt/conda/lib/python3.10/site-packages (from fiona>=1.8.21->geopandas) (0.7.2)\n",
      "Requirement already satisfied: six in /opt/conda/lib/python3.10/site-packages (from fiona>=1.8.21->geopandas) (1.16.0)\n",
      "Requirement already satisfied: python-dateutil>=2.8.1 in /opt/conda/lib/python3.10/site-packages (from pandas>=1.4.0->geopandas) (2.8.2)\n",
      "Requirement already satisfied: pytz>=2020.1 in /opt/conda/lib/python3.10/site-packages (from pandas>=1.4.0->geopandas) (2022.1)\n",
      "Requirement already satisfied: numpy>=1.21.0 in /opt/conda/lib/python3.10/site-packages (from pandas>=1.4.0->geopandas) (1.21.6)\n",
      "Requirement already satisfied: pyparsing!=3.0.5,>=2.0.2 in /opt/conda/lib/python3.10/site-packages (from packaging->geopandas) (3.0.9)\n",
      "\u001b[33mWARNING: Running pip as the 'root' user can result in broken permissions and conflicting behaviour with the system package manager. It is recommended to use a virtual environment instead: https://pip.pypa.io/warnings/venv\u001b[0m\u001b[33m\n",
      "\u001b[0mRequirement already satisfied: statsmodels in /opt/conda/lib/python3.10/site-packages (0.13.2)\n",
      "Requirement already satisfied: numpy>=1.17 in /opt/conda/lib/python3.10/site-packages (from statsmodels) (1.21.6)\n",
      "Requirement already satisfied: scipy>=1.3 in /opt/conda/lib/python3.10/site-packages (from statsmodels) (1.11.2)\n",
      "Requirement already satisfied: pandas>=0.25 in /opt/conda/lib/python3.10/site-packages (from statsmodels) (1.4.4)\n",
      "Requirement already satisfied: patsy>=0.5.2 in /opt/conda/lib/python3.10/site-packages (from statsmodels) (0.5.2)\n",
      "Requirement already satisfied: packaging>=21.3 in /opt/conda/lib/python3.10/site-packages (from statsmodels) (21.3)\n",
      "Requirement already satisfied: pyparsing!=3.0.5,>=2.0.2 in /opt/conda/lib/python3.10/site-packages (from packaging>=21.3->statsmodels) (3.0.9)\n",
      "Requirement already satisfied: python-dateutil>=2.8.1 in /opt/conda/lib/python3.10/site-packages (from pandas>=0.25->statsmodels) (2.8.2)\n",
      "Requirement already satisfied: pytz>=2020.1 in /opt/conda/lib/python3.10/site-packages (from pandas>=0.25->statsmodels) (2022.1)\n",
      "Requirement already satisfied: six in /opt/conda/lib/python3.10/site-packages (from patsy>=0.5.2->statsmodels) (1.16.0)\n",
      "\u001b[33mWARNING: Running pip as the 'root' user can result in broken permissions and conflicting behaviour with the system package manager. It is recommended to use a virtual environment instead: https://pip.pypa.io/warnings/venv\u001b[0m\u001b[33m\n",
      "\u001b[0m"
     ]
    }
   ],
   "source": [
    "! pip install rioxarray\n",
    "! pip install xarray\n",
    "! pip install catboost\n",
    "! pip install geopandas\n",
    "! pip install statsmodels"
   ]
  },
  {
   "cell_type": "code",
   "execution_count": 3,
   "id": "0000294d-3713-446a-8005-8a5a0ef3505b",
   "metadata": {
    "tags": []
   },
   "outputs": [],
   "source": [
    "import geopandas as gpd\n",
    "import rasterio\n",
    "import rioxarray as rxr\n",
    "import xarray as xr\n",
    "import numpy as np\n",
    "import pandas as pd\n",
    "import statsmodels.api as sm\n",
    "from sklearn.model_selection import train_test_split\n",
    "from sklearn import metrics\n",
    "from catboost import CatBoostClassifier\n",
    "from matplotlib import pyplot as plt"
   ]
  },
  {
   "cell_type": "markdown",
   "id": "a6255d53-aa49-42b9-b3b5-919d8616ec11",
   "metadata": {
    "tags": []
   },
   "source": [
    "# Read in Model Ground Truth"
   ]
  },
  {
   "cell_type": "code",
   "execution_count": 4,
   "id": "e8400bee-3c18-4b6e-92e5-cf49977c502e",
   "metadata": {
    "tags": []
   },
   "outputs": [],
   "source": [
    "bucket='sagemaker-us-east-1-565022919370/Input_ResponseVar_NOAA_reports_presence_100m'\n",
    "data_key = 'NOAA_reports_presence_100m.shp'\n",
    "data_location = 's3://{}/{}'.format(bucket, data_key)\n",
    "\n",
    "presence = gpd.read_file(data_location)\n",
    "\n",
    "bucket='sagemaker-us-east-1-565022919370/Input_ResponseVar_absence_points_100m'\n",
    "data_key = 'absence_points_100m.shp'\n",
    "data_location = 's3://{}/{}'.format(bucket, data_key)\n",
    "\n",
    "absence = gpd.read_file(data_location)\n",
    "\n",
    "combined_response = pd.concat([presence, absence], axis = 0)"
   ]
  },
  {
   "cell_type": "code",
   "execution_count": 5,
   "id": "4e5b18be-4700-4ef5-9c5d-6fd7fcec47ef",
   "metadata": {
    "tags": []
   },
   "outputs": [
    {
     "data": {
      "text/html": [
       "<div>\n",
       "<style scoped>\n",
       "    .dataframe tbody tr th:only-of-type {\n",
       "        vertical-align: middle;\n",
       "    }\n",
       "\n",
       "    .dataframe tbody tr th {\n",
       "        vertical-align: top;\n",
       "    }\n",
       "\n",
       "    .dataframe thead th {\n",
       "        text-align: right;\n",
       "    }\n",
       "</style>\n",
       "<table border=\"1\" class=\"dataframe\">\n",
       "  <thead>\n",
       "    <tr style=\"text-align: right;\">\n",
       "      <th></th>\n",
       "      <th>flood</th>\n",
       "      <th>geometry</th>\n",
       "    </tr>\n",
       "  </thead>\n",
       "  <tbody>\n",
       "    <tr>\n",
       "      <th>0</th>\n",
       "      <td>1.0</td>\n",
       "      <td>POINT (-177199.145 2764524.542)</td>\n",
       "    </tr>\n",
       "    <tr>\n",
       "      <th>1</th>\n",
       "      <td>1.0</td>\n",
       "      <td>POINT (773306.560 1815039.814)</td>\n",
       "    </tr>\n",
       "    <tr>\n",
       "      <th>2</th>\n",
       "      <td>1.0</td>\n",
       "      <td>POINT (1012673.548 2005202.046)</td>\n",
       "    </tr>\n",
       "    <tr>\n",
       "      <th>3</th>\n",
       "      <td>1.0</td>\n",
       "      <td>POINT (824897.556 1790830.726)</td>\n",
       "    </tr>\n",
       "    <tr>\n",
       "      <th>4</th>\n",
       "      <td>1.0</td>\n",
       "      <td>POINT (864981.557 1820794.672)</td>\n",
       "    </tr>\n",
       "    <tr>\n",
       "      <th>...</th>\n",
       "      <td>...</td>\n",
       "      <td>...</td>\n",
       "    </tr>\n",
       "    <tr>\n",
       "      <th>71429</th>\n",
       "      <td>0.0</td>\n",
       "      <td>POINT (-1822995.000 1266155.000)</td>\n",
       "    </tr>\n",
       "    <tr>\n",
       "      <th>71430</th>\n",
       "      <td>0.0</td>\n",
       "      <td>POINT (-1786595.000 1261855.000)</td>\n",
       "    </tr>\n",
       "    <tr>\n",
       "      <th>71431</th>\n",
       "      <td>0.0</td>\n",
       "      <td>POINT (-1815495.000 1259755.000)</td>\n",
       "    </tr>\n",
       "    <tr>\n",
       "      <th>71432</th>\n",
       "      <td>0.0</td>\n",
       "      <td>POINT (-1787895.000 1257355.000)</td>\n",
       "    </tr>\n",
       "    <tr>\n",
       "      <th>71433</th>\n",
       "      <td>0.0</td>\n",
       "      <td>POINT (-1786195.000 1251355.000)</td>\n",
       "    </tr>\n",
       "  </tbody>\n",
       "</table>\n",
       "<p>142868 rows × 2 columns</p>\n",
       "</div>"
      ],
      "text/plain": [
       "       flood                          geometry\n",
       "0        1.0   POINT (-177199.145 2764524.542)\n",
       "1        1.0    POINT (773306.560 1815039.814)\n",
       "2        1.0   POINT (1012673.548 2005202.046)\n",
       "3        1.0    POINT (824897.556 1790830.726)\n",
       "4        1.0    POINT (864981.557 1820794.672)\n",
       "...      ...                               ...\n",
       "71429    0.0  POINT (-1822995.000 1266155.000)\n",
       "71430    0.0  POINT (-1786595.000 1261855.000)\n",
       "71431    0.0  POINT (-1815495.000 1259755.000)\n",
       "71432    0.0  POINT (-1787895.000 1257355.000)\n",
       "71433    0.0  POINT (-1786195.000 1251355.000)\n",
       "\n",
       "[142868 rows x 2 columns]"
      ]
     },
     "execution_count": 5,
     "metadata": {},
     "output_type": "execute_result"
    }
   ],
   "source": [
    "combined_response"
   ]
  },
  {
   "cell_type": "markdown",
   "id": "740a2269-7da8-4bd3-b0f4-26590e40ee80",
   "metadata": {},
   "source": [
    "# Read in Paper Predictions"
   ]
  },
  {
   "cell_type": "code",
   "execution_count": 6,
   "id": "e2a80714-1173-4566-9715-685c5e5cd29a",
   "metadata": {
    "tags": []
   },
   "outputs": [],
   "source": [
    "bucket='sagemaker-us-east-1-565022919370/Output_CONUS_FDP_100m'\n",
    "data_key = 'CONUS_FDP_100m.tif'\n",
    "data_location = 's3://{}/{}'.format(bucket, data_key)\n",
    "\n",
    "predictions_src = rasterio.open(data_location)"
   ]
  },
  {
   "cell_type": "markdown",
   "id": "890ab346-1db5-4504-9486-bb2a29d90935",
   "metadata": {},
   "source": [
    "# Read in Social Vulnerability Index"
   ]
  },
  {
   "cell_type": "code",
   "execution_count": 7,
   "id": "3736d4a3-b589-4388-828e-4ed9630a90f9",
   "metadata": {
    "tags": []
   },
   "outputs": [],
   "source": [
    "svi_src = rasterio.open('svi_2018_tract_overall_nad83_nopop.tif')"
   ]
  },
  {
   "cell_type": "markdown",
   "id": "3531a4b3-40af-4372-a438-8e45e6a1f129",
   "metadata": {},
   "source": [
    "# Read in Temperature "
   ]
  },
  {
   "cell_type": "code",
   "execution_count": 8,
   "id": "b5f53d92-f66e-4dd6-abbc-0b679d6a13b5",
   "metadata": {
    "tags": []
   },
   "outputs": [],
   "source": [
    "temperature_src = rasterio.open('temperature.tif')"
   ]
  },
  {
   "cell_type": "markdown",
   "id": "e107a49b-eb8c-4846-bae1-68c6a1ae7b62",
   "metadata": {},
   "source": [
    "# Get Social Vulnerability Index for Ground Truth"
   ]
  },
  {
   "cell_type": "code",
   "execution_count": 9,
   "id": "94277d41-6d29-4f79-bd00-39b9bbbe4636",
   "metadata": {
    "tags": []
   },
   "outputs": [
    {
     "data": {
      "text/plain": [
       "CRS.from_epsg(4269)"
      ]
     },
     "execution_count": 9,
     "metadata": {},
     "output_type": "execute_result"
    }
   ],
   "source": [
    "svi_src.crs"
   ]
  },
  {
   "cell_type": "code",
   "execution_count": 10,
   "id": "1bef7425-1c2f-4ddb-9b22-4aabfacda3c8",
   "metadata": {
    "tags": []
   },
   "outputs": [
    {
     "name": "stdout",
     "output_type": "stream",
     "text": [
      "CPU times: user 7.93 s, sys: 81.4 ms, total: 8.01 s\n",
      "Wall time: 8.01 s\n"
     ]
    }
   ],
   "source": [
    "%%time\n",
    "combined_response['geometry'] = combined_response.geometry.to_crs('4269')\n",
    "\n",
    "combined_response.index = range(len(combined_response))\n",
    "coords = [(x,y) for x, y in zip(combined_response.geometry.x, combined_response.geometry.y)]\n",
    "\n",
    "# Sample the raster at every point location and store values in DataFrame\n",
    "combined_response['social_vulnerability_index'] = [x for x in svi_src.sample(coords)]\n",
    "combined_response['social_vulnerability_index'] = combined_response.apply(lambda x: x['social_vulnerability_index'][0], axis=1)"
   ]
  },
  {
   "cell_type": "code",
   "execution_count": 11,
   "id": "6590a365-6a2e-46ad-8fea-fe7ba7d26a70",
   "metadata": {
    "tags": []
   },
   "outputs": [
    {
     "data": {
      "text/plain": [
       "count    1.428680e+05\n",
       "mean             -inf\n",
       "std               inf\n",
       "min     -3.400000e+38\n",
       "25%      2.138000e-01\n",
       "50%      4.427000e-01\n",
       "75%      6.560000e-01\n",
       "max      1.000000e+00\n",
       "Name: social_vulnerability_index, dtype: float64"
      ]
     },
     "execution_count": 11,
     "metadata": {},
     "output_type": "execute_result"
    }
   ],
   "source": [
    "# some min values are negative which doesn't make sense\n",
    "combined_response.social_vulnerability_index.describe()"
   ]
  },
  {
   "cell_type": "code",
   "execution_count": 12,
   "id": "4544b21e-380f-40ce-ac7a-39c27eb1d95e",
   "metadata": {
    "tags": []
   },
   "outputs": [
    {
     "data": {
      "text/plain": [
       "count    1.249400e+04\n",
       "mean             -inf\n",
       "std      0.000000e+00\n",
       "min     -3.400000e+38\n",
       "25%     -3.400000e+38\n",
       "50%     -3.400000e+38\n",
       "75%     -3.400000e+38\n",
       "max     -3.400000e+38\n",
       "Name: social_vulnerability_index, dtype: float64"
      ]
     },
     "execution_count": 12,
     "metadata": {},
     "output_type": "execute_result"
    }
   ],
   "source": [
    "# these look like errors / places that couldn't match to real values \n",
    "# replacing them with the mean \n",
    "combined_response.social_vulnerability_index[combined_response.social_vulnerability_index < 0].describe()"
   ]
  },
  {
   "cell_type": "code",
   "execution_count": 13,
   "id": "33e5de9c-9cb1-4fed-9803-ee3c9b36f96a",
   "metadata": {
    "tags": []
   },
   "outputs": [],
   "source": [
    "combined_response['social_vulnerability_index']  = np.where(combined_response['social_vulnerability_index'] < 0, None, combined_response['social_vulnerability_index'])"
   ]
  },
  {
   "cell_type": "code",
   "execution_count": 14,
   "id": "177e30ca-0b9a-4ad5-969a-26ad255e8c28",
   "metadata": {
    "tags": []
   },
   "outputs": [],
   "source": [
    "combined_response['social_vulnerability_index']  = combined_response['social_vulnerability_index'].fillna(combined_response['social_vulnerability_index'].mean(skipna=True))"
   ]
  },
  {
   "cell_type": "markdown",
   "id": "5c07bfe7-ef63-47bd-a8b0-8ed22a6bbbf6",
   "metadata": {},
   "source": [
    "## Get SVI Components for Ground Truth"
   ]
  },
  {
   "cell_type": "code",
   "execution_count": 15,
   "id": "6e8e1d21-5798-4d66-b6f4-70fab981a663",
   "metadata": {
    "tags": []
   },
   "outputs": [],
   "source": [
    "socioeconomic_src = rasterio.open('svi_2018_tract_socioeconomic_nad83_nopop.tif')\n",
    "minority_src = rasterio.open('svi_2018_tract_minority_nad83_nopop.tif')\n",
    "housing_src = rasterio.open('svi_2018_tract_housing_nad83_nopop.tif')\n",
    "household_src = rasterio.open('svi_2018_tract_household_nad83_nopop.tif')"
   ]
  },
  {
   "cell_type": "code",
   "execution_count": 16,
   "id": "b4da08d3-b085-4559-a048-bc13576cf28b",
   "metadata": {
    "tags": []
   },
   "outputs": [
    {
     "data": {
      "text/plain": [
       "CRS.from_epsg(4269)"
      ]
     },
     "execution_count": 16,
     "metadata": {},
     "output_type": "execute_result"
    }
   ],
   "source": [
    "socioeconomic_src.crs"
   ]
  },
  {
   "cell_type": "code",
   "execution_count": 45,
   "id": "bf420fce-a2de-491b-b383-93ba39d0674c",
   "metadata": {
    "tags": []
   },
   "outputs": [
    {
     "name": "stdout",
     "output_type": "stream",
     "text": [
      "CPU times: user 30.7 s, sys: 203 ms, total: 30.9 s\n",
      "Wall time: 30.9 s\n"
     ]
    }
   ],
   "source": [
    "%%time\n",
    "combined_response['geometry'] = combined_response.geometry.to_crs('4269')\n",
    "\n",
    "combined_response.index = range(len(combined_response))\n",
    "coords = [(x,y) for x, y in zip(combined_response.geometry.x, combined_response.geometry.y)]\n",
    "\n",
    "# socioeconomic\n",
    "combined_response['socioeconomic_index'] = [x for x in socioeconomic_src.sample(coords)]\n",
    "combined_response['socioeconomic_index'] = combined_response.apply(lambda x: x['socioeconomic_index'][0], axis=1)\n",
    "\n",
    "# minority\n",
    "combined_response['minority_index'] = [x for x in minority_src.sample(coords)]\n",
    "combined_response['minority_index'] = combined_response.apply(lambda x: x['minority_index'][0], axis=1)\n",
    "\n",
    "# housing\n",
    "combined_response['housing_index'] = [x for x in housing_src.sample(coords)]\n",
    "combined_response['housing_index'] = combined_response.apply(lambda x: x['housing_index'][0], axis=1)\n",
    "\n",
    "# household\n",
    "combined_response['household_index'] = [x for x in household_src.sample(coords)]\n",
    "combined_response['household_index'] = combined_response.apply(lambda x: x['household_index'][0], axis=1)"
   ]
  },
  {
   "cell_type": "code",
   "execution_count": 46,
   "id": "dc795a0a-a463-4af5-9cc7-633409a355f7",
   "metadata": {
    "tags": []
   },
   "outputs": [],
   "source": [
    "combined_response['socioeconomic_index']  = np.where(combined_response['socioeconomic_index'] < 0, None, combined_response['socioeconomic_index'])\n",
    "combined_response['minority_index']  = np.where(combined_response['minority_index'] < 0, None, combined_response['minority_index'])\n",
    "combined_response['housing_index']  = np.where(combined_response['housing_index'] < 0, None, combined_response['housing_index'])\n",
    "combined_response['household_index']  = np.where(combined_response['household_index'] < 0, None, combined_response['household_index'])\n",
    "\n",
    "combined_response['socioeconomic_index']  = combined_response['socioeconomic_index'].fillna(combined_response['socioeconomic_index'].mean(skipna=True))\n",
    "combined_response['minority_index']  = combined_response['minority_index'].fillna(combined_response['minority_index'].mean(skipna=True))\n",
    "combined_response['housing_index']  = combined_response['housing_index'].fillna(combined_response['housing_index'].mean(skipna=True))\n",
    "combined_response['household_index']  = combined_response['household_index'].fillna(combined_response['household_index'].mean(skipna=True))"
   ]
  },
  {
   "cell_type": "markdown",
   "id": "3d13c13e-b4a8-43bd-979c-3e4321ebf347",
   "metadata": {},
   "source": [
    "# Get Model Predictions for Ground Truth"
   ]
  },
  {
   "cell_type": "code",
   "execution_count": 47,
   "id": "c22b3edd-20d1-4d0f-9b0a-d88adb520825",
   "metadata": {
    "tags": []
   },
   "outputs": [
    {
     "data": {
      "text/plain": [
       "CRS.from_epsg(5070)"
      ]
     },
     "execution_count": 47,
     "metadata": {},
     "output_type": "execute_result"
    }
   ],
   "source": [
    "predictions_src.crs"
   ]
  },
  {
   "cell_type": "code",
   "execution_count": 20,
   "id": "dcf2ebe2-108c-459a-b9b2-f064a7e2f003",
   "metadata": {
    "tags": []
   },
   "outputs": [
    {
     "name": "stdout",
     "output_type": "stream",
     "text": [
      "CPU times: user 1min 18s, sys: 10.3 s, total: 1min 29s\n",
      "Wall time: 23min 2s\n"
     ]
    }
   ],
   "source": [
    "%%time \n",
    "\n",
    "combined_response['geometry'] = combined_response.geometry.to_crs('5070')\n",
    "\n",
    "coords = [(x,y) for x, y in zip(combined_response.geometry.x, combined_response.geometry.y)]\n",
    "\n",
    "# Sample the raster at every point location and store values in DataFrame\n",
    "combined_response['original_model_prediction'] = [x for x in predictions_src.sample(coords)]\n",
    "combined_response['original_model_prediction'] = combined_response.apply(lambda x: x['original_model_prediction'][0], axis=1)"
   ]
  },
  {
   "cell_type": "code",
   "execution_count": 21,
   "id": "9eac55d1-b023-412a-81b5-ed2cbb4dd697",
   "metadata": {
    "tags": []
   },
   "outputs": [
    {
     "data": {
      "text/plain": [
       "count    1.428680e+05\n",
       "mean             -inf\n",
       "std               inf\n",
       "min     -3.400000e+38\n",
       "25%      3.231171e-01\n",
       "50%      4.754409e-01\n",
       "75%      6.450768e-01\n",
       "max      1.000000e+00\n",
       "Name: original_model_prediction, dtype: float64"
      ]
     },
     "execution_count": 21,
     "metadata": {},
     "output_type": "execute_result"
    }
   ],
   "source": [
    "# some min values are negative which doesn't make sense, doing the same as above\n",
    "combined_response.original_model_prediction.describe()"
   ]
  },
  {
   "cell_type": "code",
   "execution_count": 22,
   "id": "61bb73fb-c00d-46f1-bc49-40e7b7bcae71",
   "metadata": {
    "tags": []
   },
   "outputs": [],
   "source": [
    "combined_response['original_model_prediction_backup'] = combined_response['original_model_prediction']\n",
    "combined_response['original_model_prediction']  = np.where(combined_response['original_model_prediction'] < 0, None, combined_response['original_model_prediction'])\n",
    "combined_response['original_model_prediction']  = combined_response['original_model_prediction'].fillna(combined_response['original_model_prediction'].mean(skipna=True))"
   ]
  },
  {
   "cell_type": "markdown",
   "id": "ff8b57ff-0d47-4d29-afe9-a1f70c0121d7",
   "metadata": {},
   "source": [
    "# Get Temperature for Ground Truth"
   ]
  },
  {
   "cell_type": "code",
   "execution_count": 23,
   "id": "0601d58e-3adc-42ef-8fe4-2fb6ad14ed70",
   "metadata": {
    "tags": []
   },
   "outputs": [
    {
     "data": {
      "text/plain": [
       "CRS.from_epsg(3857)"
      ]
     },
     "execution_count": 23,
     "metadata": {},
     "output_type": "execute_result"
    }
   ],
   "source": [
    "temperature_src.crs"
   ]
  },
  {
   "cell_type": "code",
   "execution_count": 24,
   "id": "257a36e7-7141-434b-bbce-75c21d167332",
   "metadata": {
    "tags": []
   },
   "outputs": [
    {
     "name": "stdout",
     "output_type": "stream",
     "text": [
      "CPU times: user 8.21 s, sys: 69.7 ms, total: 8.28 s\n",
      "Wall time: 8.87 s\n"
     ]
    }
   ],
   "source": [
    "%%time\n",
    "combined_response['geometry'] = combined_response.geometry.to_crs('3857')\n",
    "\n",
    "coords = [(x,y) for x, y in zip(combined_response.geometry.x, combined_response.geometry.y)]\n",
    "\n",
    "# Sample the raster at every point location and store values in DataFrame\n",
    "combined_response['temperature_index'] = [x for x in temperature_src.sample(coords)]\n",
    "combined_response['temperature_index'] = combined_response.apply(lambda x: x['temperature_index'][0], axis=1)"
   ]
  },
  {
   "cell_type": "markdown",
   "id": "57a54a17-3992-4eca-905b-494dcc2e85a6",
   "metadata": {
    "tags": []
   },
   "source": [
    "# Get Emissions for Ground Truth"
   ]
  },
  {
   "cell_type": "code",
   "execution_count": 25,
   "id": "532fb8df-b3e5-4d05-b48c-c61f9743e8ec",
   "metadata": {
    "tags": []
   },
   "outputs": [
    {
     "data": {
      "text/plain": [
       "CRS.from_epsg(4269)"
      ]
     },
     "execution_count": 25,
     "metadata": {},
     "output_type": "execute_result"
    }
   ],
   "source": [
    "emissions_src = rasterio.open('onroad_2017.tif')\n",
    "\n",
    "emissions_src.crs"
   ]
  },
  {
   "cell_type": "code",
   "execution_count": 26,
   "id": "185d4136-48db-497f-bae0-4d2bccdec055",
   "metadata": {
    "tags": []
   },
   "outputs": [
    {
     "name": "stdout",
     "output_type": "stream",
     "text": [
      "CPU times: user 6.73 s, sys: 38.8 ms, total: 6.77 s\n",
      "Wall time: 6.78 s\n"
     ]
    }
   ],
   "source": [
    "%%time\n",
    "\n",
    "with rasterio.open('onroad_2017.tif', 'r+') as emissions_src:\n",
    "    # emissions_src.crs = CRS.from_epsg(4269)\n",
    "    combined_response['geometry'] = combined_response.geometry.to_crs('4269')\n",
    "\n",
    "    coords = [(x,y) for x, y in zip(combined_response.geometry.x, combined_response.geometry.y)]\n",
    "\n",
    "    # Sample the raster at every point location and store values in DataFrame\n",
    "    combined_response['emissions_index'] = [x for x in emissions_src.sample(coords)]\n",
    "    combined_response['emissions_index'] = combined_response.apply(lambda x: x['emissions_index'][0], axis=1)"
   ]
  },
  {
   "cell_type": "code",
   "execution_count": 27,
   "id": "4a08a944-bfae-4704-8c06-6b0c10421dde",
   "metadata": {
    "tags": []
   },
   "outputs": [
    {
     "data": {
      "text/plain": [
       "10792     11823.216409\n",
       "102041    11823.216409\n",
       "117245    11823.216409\n",
       "37250     11823.216409\n",
       "120434    11823.216409\n",
       "              ...     \n",
       "107173    11823.216409\n",
       "47261     11823.216409\n",
       "76533     11823.216409\n",
       "75652     11823.216409\n",
       "77975     11823.216409\n",
       "Name: emissions_index, Length: 190, dtype: float64"
      ]
     },
     "execution_count": 27,
     "metadata": {},
     "output_type": "execute_result"
    }
   ],
   "source": [
    "combined_response['emissions_index'].sample(190)"
   ]
  },
  {
   "cell_type": "markdown",
   "id": "a3ff04f9-d1e1-4a5b-942c-7d45be1536fb",
   "metadata": {},
   "source": [
    "# Build Model"
   ]
  },
  {
   "cell_type": "markdown",
   "id": "a9ee724e-13c8-44a3-a073-2adac5f0f13e",
   "metadata": {
    "tags": []
   },
   "source": [
    "## Original AUC"
   ]
  },
  {
   "cell_type": "code",
   "execution_count": 28,
   "id": "43aa026a-536e-4666-84e8-172a1e269c60",
   "metadata": {
    "tags": []
   },
   "outputs": [],
   "source": [
    "# split into train/test\n",
    "train, test = train_test_split(combined_response, test_size = .15, random_state = 10)\n",
    "\n",
    "X_train = train[[\n",
    "    'original_model_prediction', \n",
    "                                    # 'social_vulnerability_index', \n",
    "                       'socioeconomic_index', \n",
    "                       'minority_index', \n",
    "                       'housing_index',\n",
    "                       'household_index', \n",
    "                                   'temperature_index'\n",
    "                      ]]\n",
    "y_train = train[['flood']].astype('int')\n",
    "\n",
    "X_test = test[['original_model_prediction', \n",
    "                                    # 'social_vulnerability_index', \n",
    "                       'socioeconomic_index', \n",
    "                       'minority_index', \n",
    "                       'housing_index',\n",
    "                       'household_index', \n",
    "                                   'temperature_index'\n",
    "                      ]]\n",
    "y_test = test[['flood']].astype('int')"
   ]
  },
  {
   "cell_type": "code",
   "execution_count": 29,
   "id": "9ff0f373-a607-4904-81c9-5577b98d0ef1",
   "metadata": {
    "tags": []
   },
   "outputs": [
    {
     "name": "stdout",
     "output_type": "stream",
     "text": [
      "0.8893568350939733\n"
     ]
    }
   ],
   "source": [
    "auc = metrics.roc_auc_score(y_test, X_test['original_model_prediction'])\n",
    "print(auc)"
   ]
  },
  {
   "cell_type": "code",
   "execution_count": 30,
   "id": "7e9370ad-2918-4480-ac1b-4c8652b7cbaf",
   "metadata": {
    "tags": []
   },
   "outputs": [
    {
     "data": {
      "text/html": [
       "<div>\n",
       "<style scoped>\n",
       "    .dataframe tbody tr th:only-of-type {\n",
       "        vertical-align: middle;\n",
       "    }\n",
       "\n",
       "    .dataframe tbody tr th {\n",
       "        vertical-align: top;\n",
       "    }\n",
       "\n",
       "    .dataframe thead th {\n",
       "        text-align: right;\n",
       "    }\n",
       "</style>\n",
       "<table border=\"1\" class=\"dataframe\">\n",
       "  <thead>\n",
       "    <tr style=\"text-align: right;\">\n",
       "      <th></th>\n",
       "      <th>original_model_prediction</th>\n",
       "      <th>social_vulnerability_index</th>\n",
       "      <th>socioeconomic_index</th>\n",
       "      <th>minority_index</th>\n",
       "      <th>housing_index</th>\n",
       "      <th>household_index</th>\n",
       "      <th>temperature_index</th>\n",
       "    </tr>\n",
       "    <tr>\n",
       "      <th>flood</th>\n",
       "      <th></th>\n",
       "      <th></th>\n",
       "      <th></th>\n",
       "      <th></th>\n",
       "      <th></th>\n",
       "      <th></th>\n",
       "      <th></th>\n",
       "    </tr>\n",
       "  </thead>\n",
       "  <tbody>\n",
       "    <tr>\n",
       "      <th>0.0</th>\n",
       "      <td>0.346030</td>\n",
       "      <td>0.471740</td>\n",
       "      <td>0.504825</td>\n",
       "      <td>0.312548</td>\n",
       "      <td>0.480693</td>\n",
       "      <td>0.585208</td>\n",
       "      <td>12.721767</td>\n",
       "    </tr>\n",
       "    <tr>\n",
       "      <th>1.0</th>\n",
       "      <td>0.657217</td>\n",
       "      <td>0.490364</td>\n",
       "      <td>0.514732</td>\n",
       "      <td>0.321745</td>\n",
       "      <td>0.505641</td>\n",
       "      <td>0.594906</td>\n",
       "      <td>13.275267</td>\n",
       "    </tr>\n",
       "  </tbody>\n",
       "</table>\n",
       "</div>"
      ],
      "text/plain": [
       "       original_model_prediction  social_vulnerability_index  \\\n",
       "flood                                                          \n",
       "0.0                     0.346030                    0.471740   \n",
       "1.0                     0.657217                    0.490364   \n",
       "\n",
       "       socioeconomic_index  minority_index  housing_index  household_index  \\\n",
       "flood                                                                        \n",
       "0.0               0.504825        0.312548       0.480693         0.585208   \n",
       "1.0               0.514732        0.321745       0.505641         0.594906   \n",
       "\n",
       "       temperature_index  \n",
       "flood                     \n",
       "0.0            12.721767  \n",
       "1.0            13.275267  "
      ]
     },
     "execution_count": 30,
     "metadata": {},
     "output_type": "execute_result"
    }
   ],
   "source": [
    "combined_response.groupby('flood')[['original_model_prediction', \n",
    "                                    'social_vulnerability_index', 'socioeconomic_index', 'minority_index', 'housing_index', 'household_index', \n",
    "                                   'temperature_index']].mean()"
   ]
  },
  {
   "cell_type": "code",
   "execution_count": 31,
   "id": "733444e6-2123-4cba-b923-01a1eaf29b12",
   "metadata": {
    "tags": []
   },
   "outputs": [],
   "source": [
    "X = combined_response[['original_model_prediction', \n",
    "                                    # 'social_vulnerability_index', \n",
    "                       'socioeconomic_index', \n",
    "                       'minority_index', \n",
    "                       'housing_index',\n",
    "                       'household_index', \n",
    "                                   'temperature_index'\n",
    "                      ]]#.sample(100)\n",
    "y = combined_response[['flood']].astype('int')#.sample(100)"
   ]
  },
  {
   "cell_type": "code",
   "execution_count": 32,
   "id": "a6bdf1ac-1a43-48e5-9a67-067d2b616f18",
   "metadata": {
    "tags": []
   },
   "outputs": [
    {
     "data": {
      "text/html": [
       "<div>\n",
       "<style scoped>\n",
       "    .dataframe tbody tr th:only-of-type {\n",
       "        vertical-align: middle;\n",
       "    }\n",
       "\n",
       "    .dataframe tbody tr th {\n",
       "        vertical-align: top;\n",
       "    }\n",
       "\n",
       "    .dataframe thead th {\n",
       "        text-align: right;\n",
       "    }\n",
       "</style>\n",
       "<table border=\"1\" class=\"dataframe\">\n",
       "  <thead>\n",
       "    <tr style=\"text-align: right;\">\n",
       "      <th></th>\n",
       "      <th>original_model_prediction</th>\n",
       "      <th>socioeconomic_index</th>\n",
       "      <th>minority_index</th>\n",
       "      <th>housing_index</th>\n",
       "      <th>household_index</th>\n",
       "      <th>temperature_index</th>\n",
       "    </tr>\n",
       "  </thead>\n",
       "  <tbody>\n",
       "    <tr>\n",
       "      <th>original_model_prediction</th>\n",
       "      <td>1.000000</td>\n",
       "      <td>0.034337</td>\n",
       "      <td>0.033489</td>\n",
       "      <td>0.047639</td>\n",
       "      <td>0.023954</td>\n",
       "      <td>0.134336</td>\n",
       "    </tr>\n",
       "    <tr>\n",
       "      <th>socioeconomic_index</th>\n",
       "      <td>0.034337</td>\n",
       "      <td>1.000000</td>\n",
       "      <td>0.235928</td>\n",
       "      <td>0.490928</td>\n",
       "      <td>0.584945</td>\n",
       "      <td>0.301220</td>\n",
       "    </tr>\n",
       "    <tr>\n",
       "      <th>minority_index</th>\n",
       "      <td>0.033489</td>\n",
       "      <td>0.235928</td>\n",
       "      <td>1.000000</td>\n",
       "      <td>0.256742</td>\n",
       "      <td>-0.033691</td>\n",
       "      <td>0.382548</td>\n",
       "    </tr>\n",
       "    <tr>\n",
       "      <th>housing_index</th>\n",
       "      <td>0.047639</td>\n",
       "      <td>0.490928</td>\n",
       "      <td>0.256742</td>\n",
       "      <td>1.000000</td>\n",
       "      <td>0.329936</td>\n",
       "      <td>0.080101</td>\n",
       "    </tr>\n",
       "    <tr>\n",
       "      <th>household_index</th>\n",
       "      <td>0.023954</td>\n",
       "      <td>0.584945</td>\n",
       "      <td>-0.033691</td>\n",
       "      <td>0.329936</td>\n",
       "      <td>1.000000</td>\n",
       "      <td>0.146089</td>\n",
       "    </tr>\n",
       "    <tr>\n",
       "      <th>temperature_index</th>\n",
       "      <td>0.134336</td>\n",
       "      <td>0.301220</td>\n",
       "      <td>0.382548</td>\n",
       "      <td>0.080101</td>\n",
       "      <td>0.146089</td>\n",
       "      <td>1.000000</td>\n",
       "    </tr>\n",
       "  </tbody>\n",
       "</table>\n",
       "</div>"
      ],
      "text/plain": [
       "                           original_model_prediction  socioeconomic_index  \\\n",
       "original_model_prediction                   1.000000             0.034337   \n",
       "socioeconomic_index                         0.034337             1.000000   \n",
       "minority_index                              0.033489             0.235928   \n",
       "housing_index                               0.047639             0.490928   \n",
       "household_index                             0.023954             0.584945   \n",
       "temperature_index                           0.134336             0.301220   \n",
       "\n",
       "                           minority_index  housing_index  household_index  \\\n",
       "original_model_prediction        0.033489       0.047639         0.023954   \n",
       "socioeconomic_index              0.235928       0.490928         0.584945   \n",
       "minority_index                   1.000000       0.256742        -0.033691   \n",
       "housing_index                    0.256742       1.000000         0.329936   \n",
       "household_index                 -0.033691       0.329936         1.000000   \n",
       "temperature_index                0.382548       0.080101         0.146089   \n",
       "\n",
       "                           temperature_index  \n",
       "original_model_prediction           0.134336  \n",
       "socioeconomic_index                 0.301220  \n",
       "minority_index                      0.382548  \n",
       "housing_index                       0.080101  \n",
       "household_index                     0.146089  \n",
       "temperature_index                   1.000000  "
      ]
     },
     "execution_count": 32,
     "metadata": {},
     "output_type": "execute_result"
    }
   ],
   "source": [
    "X.corr()"
   ]
  },
  {
   "cell_type": "markdown",
   "id": "7733ae76-400b-4ac9-8260-b3ea1d3fd9d9",
   "metadata": {},
   "source": [
    "## Logistic Regression\n",
    "\n",
    "Significant values, but not that good."
   ]
  },
  {
   "cell_type": "code",
   "execution_count": 33,
   "id": "1ed5426c-2470-4407-b26a-3c7224728d39",
   "metadata": {
    "tags": []
   },
   "outputs": [
    {
     "name": "stdout",
     "output_type": "stream",
     "text": [
      "Optimization terminated successfully.\n",
      "         Current function value: 0.492306\n",
      "         Iterations 6\n"
     ]
    }
   ],
   "source": [
    "logreg = sm.Logit(y_train, X_train).fit()"
   ]
  },
  {
   "cell_type": "code",
   "execution_count": 34,
   "id": "034a8a3d-d8dd-40bf-8c53-a24fd0f1a33d",
   "metadata": {
    "tags": []
   },
   "outputs": [
    {
     "data": {
      "text/html": [
       "<table class=\"simpletable\">\n",
       "<caption>Logit Regression Results</caption>\n",
       "<tr>\n",
       "  <th>Dep. Variable:</th>         <td>flood</td>      <th>  No. Observations:  </th>  <td>121437</td> \n",
       "</tr>\n",
       "<tr>\n",
       "  <th>Model:</th>                 <td>Logit</td>      <th>  Df Residuals:      </th>  <td>121431</td> \n",
       "</tr>\n",
       "<tr>\n",
       "  <th>Method:</th>                 <td>MLE</td>       <th>  Df Model:          </th>  <td>     5</td> \n",
       "</tr>\n",
       "<tr>\n",
       "  <th>Date:</th>            <td>Wed, 04 Oct 2023</td> <th>  Pseudo R-squ.:     </th>  <td>0.2898</td> \n",
       "</tr>\n",
       "<tr>\n",
       "  <th>Time:</th>                <td>03:14:04</td>     <th>  Log-Likelihood:    </th> <td> -59784.</td>\n",
       "</tr>\n",
       "<tr>\n",
       "  <th>converged:</th>             <td>True</td>       <th>  LL-Null:           </th> <td> -84174.</td>\n",
       "</tr>\n",
       "<tr>\n",
       "  <th>Covariance Type:</th>     <td>nonrobust</td>    <th>  LLR p-value:       </th>  <td> 0.000</td> \n",
       "</tr>\n",
       "</table>\n",
       "<table class=\"simpletable\">\n",
       "<tr>\n",
       "              <td></td>                 <th>coef</th>     <th>std err</th>      <th>z</th>      <th>P>|z|</th>  <th>[0.025</th>    <th>0.975]</th>  \n",
       "</tr>\n",
       "<tr>\n",
       "  <th>original_model_prediction</th> <td>    6.9122</td> <td>    0.042</td> <td>  165.071</td> <td> 0.000</td> <td>    6.830</td> <td>    6.994</td>\n",
       "</tr>\n",
       "<tr>\n",
       "  <th>socioeconomic_index</th>       <td>    0.2838</td> <td>    0.041</td> <td>    6.885</td> <td> 0.000</td> <td>    0.203</td> <td>    0.365</td>\n",
       "</tr>\n",
       "<tr>\n",
       "  <th>minority_index</th>            <td>   -0.1175</td> <td>    0.034</td> <td>   -3.435</td> <td> 0.001</td> <td>   -0.184</td> <td>   -0.050</td>\n",
       "</tr>\n",
       "<tr>\n",
       "  <th>housing_index</th>             <td>   -0.8624</td> <td>    0.032</td> <td>  -26.544</td> <td> 0.000</td> <td>   -0.926</td> <td>   -0.799</td>\n",
       "</tr>\n",
       "<tr>\n",
       "  <th>household_index</th>           <td>   -1.6043</td> <td>    0.036</td> <td>  -45.090</td> <td> 0.000</td> <td>   -1.674</td> <td>   -1.535</td>\n",
       "</tr>\n",
       "<tr>\n",
       "  <th>temperature_index</th>         <td>   -0.1465</td> <td>    0.002</td> <td>  -83.890</td> <td> 0.000</td> <td>   -0.150</td> <td>   -0.143</td>\n",
       "</tr>\n",
       "</table>"
      ],
      "text/plain": [
       "<class 'statsmodels.iolib.summary.Summary'>\n",
       "\"\"\"\n",
       "                           Logit Regression Results                           \n",
       "==============================================================================\n",
       "Dep. Variable:                  flood   No. Observations:               121437\n",
       "Model:                          Logit   Df Residuals:                   121431\n",
       "Method:                           MLE   Df Model:                            5\n",
       "Date:                Wed, 04 Oct 2023   Pseudo R-squ.:                  0.2898\n",
       "Time:                        03:14:04   Log-Likelihood:                -59784.\n",
       "converged:                       True   LL-Null:                       -84174.\n",
       "Covariance Type:            nonrobust   LLR p-value:                     0.000\n",
       "=============================================================================================\n",
       "                                coef    std err          z      P>|z|      [0.025      0.975]\n",
       "---------------------------------------------------------------------------------------------\n",
       "original_model_prediction     6.9122      0.042    165.071      0.000       6.830       6.994\n",
       "socioeconomic_index           0.2838      0.041      6.885      0.000       0.203       0.365\n",
       "minority_index               -0.1175      0.034     -3.435      0.001      -0.184      -0.050\n",
       "housing_index                -0.8624      0.032    -26.544      0.000      -0.926      -0.799\n",
       "household_index              -1.6043      0.036    -45.090      0.000      -1.674      -1.535\n",
       "temperature_index            -0.1465      0.002    -83.890      0.000      -0.150      -0.143\n",
       "=============================================================================================\n",
       "\"\"\""
      ]
     },
     "execution_count": 34,
     "metadata": {},
     "output_type": "execute_result"
    }
   ],
   "source": [
    "logreg.summary()"
   ]
  },
  {
   "cell_type": "code",
   "execution_count": 35,
   "id": "1f2f4ada-71ef-46b5-b39e-82fdf87456dc",
   "metadata": {
    "tags": []
   },
   "outputs": [
    {
     "name": "stdout",
     "output_type": "stream",
     "text": [
      "0.8400007009162983\n"
     ]
    }
   ],
   "source": [
    "predicted_proba = logreg.predict(X_test)\n",
    "\n",
    "auc = metrics.roc_auc_score(y_test, predicted_proba)\n",
    "print(auc)"
   ]
  },
  {
   "cell_type": "code",
   "execution_count": 36,
   "id": "b26d8f2c-6b4d-4362-94fe-b9ca68183fb4",
   "metadata": {
    "tags": []
   },
   "outputs": [
    {
     "data": {
      "text/plain": [
       "count    21431.000000\n",
       "mean         0.536497\n",
       "std          0.292745\n",
       "min          0.009271\n",
       "25%          0.275784\n",
       "50%          0.536666\n",
       "75%          0.802933\n",
       "max          0.996000\n",
       "dtype: float64"
      ]
     },
     "execution_count": 36,
     "metadata": {},
     "output_type": "execute_result"
    }
   ],
   "source": [
    "predicted_proba.describe()"
   ]
  },
  {
   "cell_type": "markdown",
   "id": "7848c8a5-5b41-4b1e-aed7-2d0f7c7b27e0",
   "metadata": {},
   "source": [
    "## Cat Boost"
   ]
  },
  {
   "cell_type": "code",
   "execution_count": 37,
   "id": "b117e019-b319-4717-8b19-7f7050ac2102",
   "metadata": {
    "tags": []
   },
   "outputs": [],
   "source": [
    "clf = CatBoostClassifier()"
   ]
  },
  {
   "cell_type": "code",
   "execution_count": 39,
   "id": "019d3959-ada4-4184-8834-5ed5bd5c87d9",
   "metadata": {
    "collapsed": true,
    "jupyter": {
     "outputs_hidden": true
    },
    "tags": []
   },
   "outputs": [
    {
     "name": "stdout",
     "output_type": "stream",
     "text": [
      "Learning rate set to 0.079975\n",
      "0:\tlearn: 0.6430689\ttotal: 55.1ms\tremaining: 55.1s\n",
      "1:\tlearn: 0.6050515\ttotal: 62.6ms\tremaining: 31.2s\n",
      "2:\tlearn: 0.5698723\ttotal: 69.2ms\tremaining: 23s\n",
      "3:\tlearn: 0.5417505\ttotal: 75.9ms\tremaining: 18.9s\n",
      "4:\tlearn: 0.5208776\ttotal: 82.4ms\tremaining: 16.4s\n",
      "5:\tlearn: 0.4980216\ttotal: 89ms\tremaining: 14.7s\n",
      "6:\tlearn: 0.4855138\ttotal: 95.9ms\tremaining: 13.6s\n",
      "7:\tlearn: 0.4746832\ttotal: 103ms\tremaining: 12.7s\n",
      "8:\tlearn: 0.4654018\ttotal: 110ms\tremaining: 12.1s\n",
      "9:\tlearn: 0.4588638\ttotal: 117ms\tremaining: 11.5s\n",
      "10:\tlearn: 0.4528814\ttotal: 124ms\tremaining: 11.1s\n",
      "11:\tlearn: 0.4462351\ttotal: 131ms\tremaining: 10.8s\n",
      "12:\tlearn: 0.4415262\ttotal: 138ms\tremaining: 10.5s\n",
      "13:\tlearn: 0.4362530\ttotal: 145ms\tremaining: 10.2s\n",
      "14:\tlearn: 0.4336424\ttotal: 152ms\tremaining: 9.96s\n",
      "15:\tlearn: 0.4310923\ttotal: 158ms\tremaining: 9.71s\n",
      "16:\tlearn: 0.4294265\ttotal: 164ms\tremaining: 9.5s\n",
      "17:\tlearn: 0.4266213\ttotal: 171ms\tremaining: 9.35s\n",
      "18:\tlearn: 0.4250347\ttotal: 179ms\tremaining: 9.22s\n",
      "19:\tlearn: 0.4236120\ttotal: 185ms\tremaining: 9.09s\n",
      "20:\tlearn: 0.4220862\ttotal: 193ms\tremaining: 8.98s\n",
      "21:\tlearn: 0.4211349\ttotal: 199ms\tremaining: 8.86s\n",
      "22:\tlearn: 0.4200256\ttotal: 206ms\tremaining: 8.77s\n",
      "23:\tlearn: 0.4192989\ttotal: 212ms\tremaining: 8.64s\n",
      "24:\tlearn: 0.4177575\ttotal: 220ms\tremaining: 8.56s\n",
      "25:\tlearn: 0.4171517\ttotal: 226ms\tremaining: 8.48s\n",
      "26:\tlearn: 0.4166201\ttotal: 234ms\tremaining: 8.43s\n",
      "27:\tlearn: 0.4160641\ttotal: 241ms\tremaining: 8.37s\n",
      "28:\tlearn: 0.4155622\ttotal: 248ms\tremaining: 8.3s\n",
      "29:\tlearn: 0.4147924\ttotal: 255ms\tremaining: 8.26s\n",
      "30:\tlearn: 0.4142092\ttotal: 263ms\tremaining: 8.21s\n",
      "31:\tlearn: 0.4137962\ttotal: 270ms\tremaining: 8.17s\n",
      "32:\tlearn: 0.4135225\ttotal: 277ms\tremaining: 8.11s\n",
      "33:\tlearn: 0.4131217\ttotal: 284ms\tremaining: 8.07s\n",
      "34:\tlearn: 0.4128239\ttotal: 291ms\tremaining: 8.02s\n",
      "35:\tlearn: 0.4124631\ttotal: 298ms\tremaining: 7.98s\n",
      "36:\tlearn: 0.4123414\ttotal: 305ms\tremaining: 7.92s\n",
      "37:\tlearn: 0.4122142\ttotal: 312ms\tremaining: 7.88s\n",
      "38:\tlearn: 0.4120848\ttotal: 318ms\tremaining: 7.83s\n",
      "39:\tlearn: 0.4117180\ttotal: 325ms\tremaining: 7.79s\n",
      "40:\tlearn: 0.4114370\ttotal: 332ms\tremaining: 7.76s\n",
      "41:\tlearn: 0.4112925\ttotal: 339ms\tremaining: 7.73s\n",
      "42:\tlearn: 0.4109496\ttotal: 346ms\tremaining: 7.71s\n",
      "43:\tlearn: 0.4108171\ttotal: 354ms\tremaining: 7.68s\n",
      "44:\tlearn: 0.4107006\ttotal: 361ms\tremaining: 7.66s\n",
      "45:\tlearn: 0.4106216\ttotal: 367ms\tremaining: 7.61s\n",
      "46:\tlearn: 0.4105384\ttotal: 374ms\tremaining: 7.58s\n",
      "47:\tlearn: 0.4104679\ttotal: 381ms\tremaining: 7.55s\n",
      "48:\tlearn: 0.4103840\ttotal: 388ms\tremaining: 7.53s\n",
      "49:\tlearn: 0.4102098\ttotal: 395ms\tremaining: 7.5s\n",
      "50:\tlearn: 0.4101084\ttotal: 402ms\tremaining: 7.48s\n",
      "51:\tlearn: 0.4100240\ttotal: 409ms\tremaining: 7.46s\n",
      "52:\tlearn: 0.4099716\ttotal: 416ms\tremaining: 7.44s\n",
      "53:\tlearn: 0.4098879\ttotal: 423ms\tremaining: 7.41s\n",
      "54:\tlearn: 0.4098234\ttotal: 430ms\tremaining: 7.39s\n",
      "55:\tlearn: 0.4097747\ttotal: 437ms\tremaining: 7.37s\n",
      "56:\tlearn: 0.4096417\ttotal: 444ms\tremaining: 7.35s\n",
      "57:\tlearn: 0.4095208\ttotal: 451ms\tremaining: 7.33s\n",
      "58:\tlearn: 0.4094512\ttotal: 458ms\tremaining: 7.31s\n",
      "59:\tlearn: 0.4093832\ttotal: 465ms\tremaining: 7.29s\n",
      "60:\tlearn: 0.4092468\ttotal: 472ms\tremaining: 7.27s\n",
      "61:\tlearn: 0.4091834\ttotal: 480ms\tremaining: 7.26s\n",
      "62:\tlearn: 0.4091314\ttotal: 487ms\tremaining: 7.24s\n",
      "63:\tlearn: 0.4090816\ttotal: 494ms\tremaining: 7.22s\n",
      "64:\tlearn: 0.4090107\ttotal: 500ms\tremaining: 7.2s\n",
      "65:\tlearn: 0.4089290\ttotal: 508ms\tremaining: 7.18s\n",
      "66:\tlearn: 0.4088856\ttotal: 515ms\tremaining: 7.17s\n",
      "67:\tlearn: 0.4088074\ttotal: 522ms\tremaining: 7.16s\n",
      "68:\tlearn: 0.4085560\ttotal: 529ms\tremaining: 7.14s\n",
      "69:\tlearn: 0.4084864\ttotal: 536ms\tremaining: 7.12s\n",
      "70:\tlearn: 0.4083025\ttotal: 544ms\tremaining: 7.11s\n",
      "71:\tlearn: 0.4082561\ttotal: 551ms\tremaining: 7.1s\n",
      "72:\tlearn: 0.4082153\ttotal: 558ms\tremaining: 7.08s\n",
      "73:\tlearn: 0.4081739\ttotal: 565ms\tremaining: 7.07s\n",
      "74:\tlearn: 0.4081194\ttotal: 572ms\tremaining: 7.05s\n",
      "75:\tlearn: 0.4080633\ttotal: 579ms\tremaining: 7.04s\n",
      "76:\tlearn: 0.4080085\ttotal: 586ms\tremaining: 7.02s\n",
      "77:\tlearn: 0.4079551\ttotal: 593ms\tremaining: 7s\n",
      "78:\tlearn: 0.4079046\ttotal: 600ms\tremaining: 6.99s\n",
      "79:\tlearn: 0.4078431\ttotal: 607ms\tremaining: 6.98s\n",
      "80:\tlearn: 0.4077963\ttotal: 613ms\tremaining: 6.96s\n",
      "81:\tlearn: 0.4077423\ttotal: 621ms\tremaining: 6.95s\n",
      "82:\tlearn: 0.4076949\ttotal: 628ms\tremaining: 6.94s\n",
      "83:\tlearn: 0.4076364\ttotal: 634ms\tremaining: 6.92s\n",
      "84:\tlearn: 0.4075757\ttotal: 641ms\tremaining: 6.9s\n",
      "85:\tlearn: 0.4075215\ttotal: 649ms\tremaining: 6.89s\n",
      "86:\tlearn: 0.4074900\ttotal: 655ms\tremaining: 6.87s\n",
      "87:\tlearn: 0.4074472\ttotal: 662ms\tremaining: 6.86s\n",
      "88:\tlearn: 0.4073990\ttotal: 669ms\tremaining: 6.85s\n",
      "89:\tlearn: 0.4073501\ttotal: 676ms\tremaining: 6.84s\n",
      "90:\tlearn: 0.4073253\ttotal: 683ms\tremaining: 6.82s\n",
      "91:\tlearn: 0.4072826\ttotal: 690ms\tremaining: 6.81s\n",
      "92:\tlearn: 0.4072393\ttotal: 698ms\tremaining: 6.8s\n",
      "93:\tlearn: 0.4072081\ttotal: 703ms\tremaining: 6.78s\n",
      "94:\tlearn: 0.4071532\ttotal: 711ms\tremaining: 6.77s\n",
      "95:\tlearn: 0.4071118\ttotal: 717ms\tremaining: 6.75s\n",
      "96:\tlearn: 0.4070695\ttotal: 725ms\tremaining: 6.75s\n",
      "97:\tlearn: 0.4069963\ttotal: 731ms\tremaining: 6.73s\n",
      "98:\tlearn: 0.4069445\ttotal: 738ms\tremaining: 6.71s\n",
      "99:\tlearn: 0.4069145\ttotal: 745ms\tremaining: 6.71s\n",
      "100:\tlearn: 0.4068321\ttotal: 752ms\tremaining: 6.7s\n",
      "101:\tlearn: 0.4067731\ttotal: 760ms\tremaining: 6.69s\n",
      "102:\tlearn: 0.4067325\ttotal: 767ms\tremaining: 6.68s\n",
      "103:\tlearn: 0.4066830\ttotal: 774ms\tremaining: 6.67s\n",
      "104:\tlearn: 0.4066508\ttotal: 781ms\tremaining: 6.66s\n",
      "105:\tlearn: 0.4066050\ttotal: 788ms\tremaining: 6.65s\n",
      "106:\tlearn: 0.4065693\ttotal: 796ms\tremaining: 6.64s\n",
      "107:\tlearn: 0.4065207\ttotal: 803ms\tremaining: 6.63s\n",
      "108:\tlearn: 0.4064207\ttotal: 810ms\tremaining: 6.62s\n",
      "109:\tlearn: 0.4063772\ttotal: 817ms\tremaining: 6.61s\n",
      "110:\tlearn: 0.4063361\ttotal: 824ms\tremaining: 6.6s\n",
      "111:\tlearn: 0.4062986\ttotal: 831ms\tremaining: 6.58s\n",
      "112:\tlearn: 0.4062571\ttotal: 838ms\tremaining: 6.58s\n",
      "113:\tlearn: 0.4062248\ttotal: 845ms\tremaining: 6.57s\n",
      "114:\tlearn: 0.4061775\ttotal: 851ms\tremaining: 6.55s\n",
      "115:\tlearn: 0.4060994\ttotal: 859ms\tremaining: 6.54s\n",
      "116:\tlearn: 0.4060584\ttotal: 866ms\tremaining: 6.53s\n",
      "117:\tlearn: 0.4060174\ttotal: 872ms\tremaining: 6.52s\n",
      "118:\tlearn: 0.4059772\ttotal: 879ms\tremaining: 6.51s\n",
      "119:\tlearn: 0.4059274\ttotal: 886ms\tremaining: 6.5s\n",
      "120:\tlearn: 0.4058905\ttotal: 894ms\tremaining: 6.49s\n",
      "121:\tlearn: 0.4057814\ttotal: 901ms\tremaining: 6.48s\n",
      "122:\tlearn: 0.4057428\ttotal: 908ms\tremaining: 6.47s\n",
      "123:\tlearn: 0.4057028\ttotal: 915ms\tremaining: 6.46s\n",
      "124:\tlearn: 0.4056665\ttotal: 922ms\tremaining: 6.45s\n",
      "125:\tlearn: 0.4056146\ttotal: 929ms\tremaining: 6.45s\n",
      "126:\tlearn: 0.4055654\ttotal: 936ms\tremaining: 6.44s\n",
      "127:\tlearn: 0.4055353\ttotal: 946ms\tremaining: 6.44s\n",
      "128:\tlearn: 0.4055147\ttotal: 953ms\tremaining: 6.43s\n",
      "129:\tlearn: 0.4054831\ttotal: 960ms\tremaining: 6.42s\n",
      "130:\tlearn: 0.4054473\ttotal: 967ms\tremaining: 6.41s\n",
      "131:\tlearn: 0.4054050\ttotal: 975ms\tremaining: 6.41s\n",
      "132:\tlearn: 0.4053707\ttotal: 982ms\tremaining: 6.4s\n",
      "133:\tlearn: 0.4053286\ttotal: 989ms\tremaining: 6.39s\n",
      "134:\tlearn: 0.4052767\ttotal: 996ms\tremaining: 6.38s\n",
      "135:\tlearn: 0.4052372\ttotal: 1s\tremaining: 6.37s\n",
      "136:\tlearn: 0.4051968\ttotal: 1.01s\tremaining: 6.36s\n",
      "137:\tlearn: 0.4051427\ttotal: 1.02s\tremaining: 6.35s\n",
      "138:\tlearn: 0.4050992\ttotal: 1.02s\tremaining: 6.34s\n",
      "139:\tlearn: 0.4050529\ttotal: 1.03s\tremaining: 6.33s\n",
      "140:\tlearn: 0.4050209\ttotal: 1.04s\tremaining: 6.32s\n",
      "141:\tlearn: 0.4049672\ttotal: 1.04s\tremaining: 6.32s\n",
      "142:\tlearn: 0.4049326\ttotal: 1.05s\tremaining: 6.31s\n",
      "143:\tlearn: 0.4048946\ttotal: 1.06s\tremaining: 6.3s\n",
      "144:\tlearn: 0.4048373\ttotal: 1.07s\tremaining: 6.29s\n",
      "145:\tlearn: 0.4047940\ttotal: 1.07s\tremaining: 6.29s\n",
      "146:\tlearn: 0.4047374\ttotal: 1.08s\tremaining: 6.28s\n",
      "147:\tlearn: 0.4046893\ttotal: 1.09s\tremaining: 6.27s\n",
      "148:\tlearn: 0.4046594\ttotal: 1.1s\tremaining: 6.26s\n",
      "149:\tlearn: 0.4045957\ttotal: 1.1s\tremaining: 6.26s\n",
      "150:\tlearn: 0.4045249\ttotal: 1.11s\tremaining: 6.25s\n",
      "151:\tlearn: 0.4044928\ttotal: 1.12s\tremaining: 6.24s\n",
      "152:\tlearn: 0.4044488\ttotal: 1.13s\tremaining: 6.23s\n",
      "153:\tlearn: 0.4044057\ttotal: 1.13s\tremaining: 6.22s\n",
      "154:\tlearn: 0.4043583\ttotal: 1.14s\tremaining: 6.21s\n",
      "155:\tlearn: 0.4043224\ttotal: 1.15s\tremaining: 6.2s\n",
      "156:\tlearn: 0.4042647\ttotal: 1.15s\tremaining: 6.2s\n",
      "157:\tlearn: 0.4042163\ttotal: 1.16s\tremaining: 6.19s\n",
      "158:\tlearn: 0.4041688\ttotal: 1.17s\tremaining: 6.18s\n",
      "159:\tlearn: 0.4041195\ttotal: 1.18s\tremaining: 6.17s\n",
      "160:\tlearn: 0.4040602\ttotal: 1.18s\tremaining: 6.16s\n",
      "161:\tlearn: 0.4040183\ttotal: 1.19s\tremaining: 6.15s\n",
      "162:\tlearn: 0.4039734\ttotal: 1.2s\tremaining: 6.14s\n",
      "163:\tlearn: 0.4039295\ttotal: 1.2s\tremaining: 6.13s\n",
      "164:\tlearn: 0.4038928\ttotal: 1.21s\tremaining: 6.12s\n",
      "165:\tlearn: 0.4038362\ttotal: 1.22s\tremaining: 6.11s\n",
      "166:\tlearn: 0.4037770\ttotal: 1.22s\tremaining: 6.1s\n",
      "167:\tlearn: 0.4037205\ttotal: 1.23s\tremaining: 6.1s\n",
      "168:\tlearn: 0.4036721\ttotal: 1.24s\tremaining: 6.09s\n",
      "169:\tlearn: 0.4036325\ttotal: 1.25s\tremaining: 6.08s\n",
      "170:\tlearn: 0.4035922\ttotal: 1.25s\tremaining: 6.07s\n",
      "171:\tlearn: 0.4035462\ttotal: 1.26s\tremaining: 6.06s\n",
      "172:\tlearn: 0.4034963\ttotal: 1.27s\tremaining: 6.05s\n",
      "173:\tlearn: 0.4034291\ttotal: 1.27s\tremaining: 6.04s\n",
      "174:\tlearn: 0.4033921\ttotal: 1.28s\tremaining: 6.04s\n",
      "175:\tlearn: 0.4033418\ttotal: 1.29s\tremaining: 6.03s\n",
      "176:\tlearn: 0.4033083\ttotal: 1.29s\tremaining: 6.02s\n",
      "177:\tlearn: 0.4032518\ttotal: 1.3s\tremaining: 6.01s\n",
      "178:\tlearn: 0.4032024\ttotal: 1.31s\tremaining: 6s\n",
      "179:\tlearn: 0.4031674\ttotal: 1.31s\tremaining: 5.99s\n",
      "180:\tlearn: 0.4031049\ttotal: 1.32s\tremaining: 5.99s\n",
      "181:\tlearn: 0.4030630\ttotal: 1.33s\tremaining: 5.98s\n",
      "182:\tlearn: 0.4030102\ttotal: 1.34s\tremaining: 5.97s\n",
      "183:\tlearn: 0.4029579\ttotal: 1.34s\tremaining: 5.96s\n",
      "184:\tlearn: 0.4029236\ttotal: 1.35s\tremaining: 5.96s\n",
      "185:\tlearn: 0.4028800\ttotal: 1.36s\tremaining: 5.95s\n",
      "186:\tlearn: 0.4028267\ttotal: 1.36s\tremaining: 5.94s\n",
      "187:\tlearn: 0.4027804\ttotal: 1.37s\tremaining: 5.93s\n",
      "188:\tlearn: 0.4027320\ttotal: 1.38s\tremaining: 5.92s\n",
      "189:\tlearn: 0.4026733\ttotal: 1.39s\tremaining: 5.92s\n",
      "190:\tlearn: 0.4026410\ttotal: 1.39s\tremaining: 5.91s\n",
      "191:\tlearn: 0.4025750\ttotal: 1.4s\tremaining: 5.9s\n",
      "192:\tlearn: 0.4025137\ttotal: 1.41s\tremaining: 5.89s\n",
      "193:\tlearn: 0.4024810\ttotal: 1.42s\tremaining: 5.88s\n",
      "194:\tlearn: 0.4024270\ttotal: 1.42s\tremaining: 5.87s\n",
      "195:\tlearn: 0.4023783\ttotal: 1.43s\tremaining: 5.87s\n",
      "196:\tlearn: 0.4023351\ttotal: 1.44s\tremaining: 5.86s\n",
      "197:\tlearn: 0.4023019\ttotal: 1.44s\tremaining: 5.85s\n",
      "198:\tlearn: 0.4022567\ttotal: 1.45s\tremaining: 5.84s\n",
      "199:\tlearn: 0.4022070\ttotal: 1.46s\tremaining: 5.83s\n",
      "200:\tlearn: 0.4021508\ttotal: 1.47s\tremaining: 5.83s\n",
      "201:\tlearn: 0.4020972\ttotal: 1.47s\tremaining: 5.82s\n",
      "202:\tlearn: 0.4020423\ttotal: 1.48s\tremaining: 5.81s\n",
      "203:\tlearn: 0.4020084\ttotal: 1.49s\tremaining: 5.8s\n",
      "204:\tlearn: 0.4019628\ttotal: 1.49s\tremaining: 5.79s\n",
      "205:\tlearn: 0.4019251\ttotal: 1.5s\tremaining: 5.78s\n",
      "206:\tlearn: 0.4018839\ttotal: 1.51s\tremaining: 5.78s\n",
      "207:\tlearn: 0.4018353\ttotal: 1.51s\tremaining: 5.77s\n",
      "208:\tlearn: 0.4018024\ttotal: 1.52s\tremaining: 5.76s\n",
      "209:\tlearn: 0.4017475\ttotal: 1.53s\tremaining: 5.75s\n",
      "210:\tlearn: 0.4017080\ttotal: 1.53s\tremaining: 5.74s\n",
      "211:\tlearn: 0.4016428\ttotal: 1.54s\tremaining: 5.73s\n",
      "212:\tlearn: 0.4016056\ttotal: 1.55s\tremaining: 5.72s\n",
      "213:\tlearn: 0.4015556\ttotal: 1.56s\tremaining: 5.72s\n",
      "214:\tlearn: 0.4015165\ttotal: 1.56s\tremaining: 5.71s\n",
      "215:\tlearn: 0.4014769\ttotal: 1.57s\tremaining: 5.7s\n",
      "216:\tlearn: 0.4014435\ttotal: 1.58s\tremaining: 5.7s\n",
      "217:\tlearn: 0.4013957\ttotal: 1.58s\tremaining: 5.69s\n",
      "218:\tlearn: 0.4013422\ttotal: 1.59s\tremaining: 5.68s\n",
      "219:\tlearn: 0.4012880\ttotal: 1.6s\tremaining: 5.67s\n",
      "220:\tlearn: 0.4012382\ttotal: 1.61s\tremaining: 5.66s\n",
      "221:\tlearn: 0.4012020\ttotal: 1.61s\tremaining: 5.66s\n",
      "222:\tlearn: 0.4011523\ttotal: 1.62s\tremaining: 5.65s\n",
      "223:\tlearn: 0.4011198\ttotal: 1.63s\tremaining: 5.64s\n",
      "224:\tlearn: 0.4010697\ttotal: 1.64s\tremaining: 5.63s\n",
      "225:\tlearn: 0.4010286\ttotal: 1.64s\tremaining: 5.63s\n",
      "226:\tlearn: 0.4009765\ttotal: 1.65s\tremaining: 5.62s\n",
      "227:\tlearn: 0.4009147\ttotal: 1.66s\tremaining: 5.61s\n",
      "228:\tlearn: 0.4008502\ttotal: 1.66s\tremaining: 5.6s\n",
      "229:\tlearn: 0.4008026\ttotal: 1.67s\tremaining: 5.6s\n",
      "230:\tlearn: 0.4007558\ttotal: 1.68s\tremaining: 5.59s\n",
      "231:\tlearn: 0.4007086\ttotal: 1.69s\tremaining: 5.58s\n",
      "232:\tlearn: 0.4006033\ttotal: 1.69s\tremaining: 5.57s\n",
      "233:\tlearn: 0.4005591\ttotal: 1.7s\tremaining: 5.57s\n",
      "234:\tlearn: 0.4005037\ttotal: 1.71s\tremaining: 5.56s\n",
      "235:\tlearn: 0.4004715\ttotal: 1.71s\tremaining: 5.55s\n",
      "236:\tlearn: 0.4004419\ttotal: 1.72s\tremaining: 5.54s\n",
      "237:\tlearn: 0.4004001\ttotal: 1.73s\tremaining: 5.54s\n",
      "238:\tlearn: 0.4003577\ttotal: 1.74s\tremaining: 5.53s\n",
      "239:\tlearn: 0.4003137\ttotal: 1.74s\tremaining: 5.52s\n",
      "240:\tlearn: 0.4002782\ttotal: 1.75s\tremaining: 5.51s\n",
      "241:\tlearn: 0.4002364\ttotal: 1.76s\tremaining: 5.5s\n",
      "242:\tlearn: 0.4002002\ttotal: 1.76s\tremaining: 5.5s\n",
      "243:\tlearn: 0.4001567\ttotal: 1.77s\tremaining: 5.49s\n",
      "244:\tlearn: 0.4001098\ttotal: 1.78s\tremaining: 5.48s\n",
      "245:\tlearn: 0.4000638\ttotal: 1.79s\tremaining: 5.47s\n",
      "246:\tlearn: 0.4000108\ttotal: 1.79s\tremaining: 5.47s\n",
      "247:\tlearn: 0.3999686\ttotal: 1.8s\tremaining: 5.46s\n",
      "248:\tlearn: 0.3999056\ttotal: 1.81s\tremaining: 5.45s\n",
      "249:\tlearn: 0.3998604\ttotal: 1.81s\tremaining: 5.44s\n",
      "250:\tlearn: 0.3998264\ttotal: 1.82s\tremaining: 5.43s\n",
      "251:\tlearn: 0.3997904\ttotal: 1.83s\tremaining: 5.43s\n",
      "252:\tlearn: 0.3997508\ttotal: 1.83s\tremaining: 5.42s\n",
      "253:\tlearn: 0.3997083\ttotal: 1.84s\tremaining: 5.41s\n",
      "254:\tlearn: 0.3996743\ttotal: 1.85s\tremaining: 5.4s\n",
      "255:\tlearn: 0.3996385\ttotal: 1.86s\tremaining: 5.39s\n",
      "256:\tlearn: 0.3996057\ttotal: 1.86s\tremaining: 5.39s\n",
      "257:\tlearn: 0.3995635\ttotal: 1.87s\tremaining: 5.38s\n",
      "258:\tlearn: 0.3995188\ttotal: 1.88s\tremaining: 5.37s\n",
      "259:\tlearn: 0.3994634\ttotal: 1.88s\tremaining: 5.36s\n",
      "260:\tlearn: 0.3994010\ttotal: 1.89s\tremaining: 5.36s\n",
      "261:\tlearn: 0.3993572\ttotal: 1.9s\tremaining: 5.35s\n",
      "262:\tlearn: 0.3993335\ttotal: 1.91s\tremaining: 5.34s\n",
      "263:\tlearn: 0.3992958\ttotal: 1.91s\tremaining: 5.33s\n",
      "264:\tlearn: 0.3992649\ttotal: 1.92s\tremaining: 5.32s\n",
      "265:\tlearn: 0.3992210\ttotal: 1.93s\tremaining: 5.32s\n",
      "266:\tlearn: 0.3991722\ttotal: 1.93s\tremaining: 5.31s\n",
      "267:\tlearn: 0.3991367\ttotal: 1.94s\tremaining: 5.3s\n",
      "268:\tlearn: 0.3990770\ttotal: 1.95s\tremaining: 5.3s\n",
      "269:\tlearn: 0.3990255\ttotal: 1.96s\tremaining: 5.29s\n",
      "270:\tlearn: 0.3989821\ttotal: 1.96s\tremaining: 5.28s\n",
      "271:\tlearn: 0.3989366\ttotal: 1.97s\tremaining: 5.28s\n",
      "272:\tlearn: 0.3989044\ttotal: 1.98s\tremaining: 5.27s\n",
      "273:\tlearn: 0.3988633\ttotal: 1.98s\tremaining: 5.26s\n",
      "274:\tlearn: 0.3988019\ttotal: 1.99s\tremaining: 5.25s\n",
      "275:\tlearn: 0.3987621\ttotal: 2s\tremaining: 5.24s\n",
      "276:\tlearn: 0.3987215\ttotal: 2.01s\tremaining: 5.24s\n",
      "277:\tlearn: 0.3986941\ttotal: 2.01s\tremaining: 5.23s\n",
      "278:\tlearn: 0.3986481\ttotal: 2.02s\tremaining: 5.22s\n",
      "279:\tlearn: 0.3986139\ttotal: 2.03s\tremaining: 5.21s\n",
      "280:\tlearn: 0.3985780\ttotal: 2.04s\tremaining: 5.21s\n",
      "281:\tlearn: 0.3985316\ttotal: 2.04s\tremaining: 5.2s\n",
      "282:\tlearn: 0.3984905\ttotal: 2.05s\tremaining: 5.19s\n",
      "283:\tlearn: 0.3984500\ttotal: 2.06s\tremaining: 5.18s\n",
      "284:\tlearn: 0.3984160\ttotal: 2.06s\tremaining: 5.17s\n",
      "285:\tlearn: 0.3983786\ttotal: 2.07s\tremaining: 5.17s\n",
      "286:\tlearn: 0.3983382\ttotal: 2.08s\tremaining: 5.16s\n",
      "287:\tlearn: 0.3982929\ttotal: 2.08s\tremaining: 5.15s\n",
      "288:\tlearn: 0.3982607\ttotal: 2.09s\tremaining: 5.14s\n",
      "289:\tlearn: 0.3982197\ttotal: 2.1s\tremaining: 5.13s\n",
      "290:\tlearn: 0.3981789\ttotal: 2.1s\tremaining: 5.13s\n",
      "291:\tlearn: 0.3981272\ttotal: 2.11s\tremaining: 5.12s\n",
      "292:\tlearn: 0.3980724\ttotal: 2.12s\tremaining: 5.11s\n",
      "293:\tlearn: 0.3980170\ttotal: 2.13s\tremaining: 5.11s\n",
      "294:\tlearn: 0.3979870\ttotal: 2.13s\tremaining: 5.1s\n",
      "295:\tlearn: 0.3979603\ttotal: 2.14s\tremaining: 5.09s\n",
      "296:\tlearn: 0.3979052\ttotal: 2.15s\tremaining: 5.08s\n",
      "297:\tlearn: 0.3978706\ttotal: 2.15s\tremaining: 5.08s\n",
      "298:\tlearn: 0.3978312\ttotal: 2.16s\tremaining: 5.07s\n",
      "299:\tlearn: 0.3977954\ttotal: 2.17s\tremaining: 5.06s\n",
      "300:\tlearn: 0.3977424\ttotal: 2.18s\tremaining: 5.05s\n",
      "301:\tlearn: 0.3976701\ttotal: 2.18s\tremaining: 5.05s\n",
      "302:\tlearn: 0.3976290\ttotal: 2.19s\tremaining: 5.04s\n",
      "303:\tlearn: 0.3975991\ttotal: 2.2s\tremaining: 5.03s\n",
      "304:\tlearn: 0.3975669\ttotal: 2.2s\tremaining: 5.02s\n",
      "305:\tlearn: 0.3975314\ttotal: 2.21s\tremaining: 5.01s\n",
      "306:\tlearn: 0.3974959\ttotal: 2.22s\tremaining: 5.01s\n",
      "307:\tlearn: 0.3974521\ttotal: 2.23s\tremaining: 5s\n",
      "308:\tlearn: 0.3974203\ttotal: 2.23s\tremaining: 4.99s\n",
      "309:\tlearn: 0.3973591\ttotal: 2.24s\tremaining: 4.99s\n",
      "310:\tlearn: 0.3973297\ttotal: 2.25s\tremaining: 4.98s\n",
      "311:\tlearn: 0.3972927\ttotal: 2.25s\tremaining: 4.97s\n",
      "312:\tlearn: 0.3972588\ttotal: 2.26s\tremaining: 4.96s\n",
      "313:\tlearn: 0.3972232\ttotal: 2.27s\tremaining: 4.96s\n",
      "314:\tlearn: 0.3971802\ttotal: 2.27s\tremaining: 4.95s\n",
      "315:\tlearn: 0.3971362\ttotal: 2.28s\tremaining: 4.94s\n",
      "316:\tlearn: 0.3970784\ttotal: 2.29s\tremaining: 4.93s\n",
      "317:\tlearn: 0.3970326\ttotal: 2.3s\tremaining: 4.93s\n",
      "318:\tlearn: 0.3969942\ttotal: 2.3s\tremaining: 4.92s\n",
      "319:\tlearn: 0.3969450\ttotal: 2.31s\tremaining: 4.92s\n",
      "320:\tlearn: 0.3969158\ttotal: 2.32s\tremaining: 4.91s\n",
      "321:\tlearn: 0.3968752\ttotal: 2.33s\tremaining: 4.9s\n",
      "322:\tlearn: 0.3968342\ttotal: 2.33s\tremaining: 4.89s\n",
      "323:\tlearn: 0.3967808\ttotal: 2.34s\tremaining: 4.89s\n",
      "324:\tlearn: 0.3966997\ttotal: 2.35s\tremaining: 4.88s\n",
      "325:\tlearn: 0.3966503\ttotal: 2.36s\tremaining: 4.87s\n",
      "326:\tlearn: 0.3966139\ttotal: 2.36s\tremaining: 4.86s\n",
      "327:\tlearn: 0.3965636\ttotal: 2.37s\tremaining: 4.86s\n",
      "328:\tlearn: 0.3965196\ttotal: 2.38s\tremaining: 4.85s\n",
      "329:\tlearn: 0.3964737\ttotal: 2.38s\tremaining: 4.84s\n",
      "330:\tlearn: 0.3964346\ttotal: 2.39s\tremaining: 4.84s\n",
      "331:\tlearn: 0.3963825\ttotal: 2.4s\tremaining: 4.83s\n",
      "332:\tlearn: 0.3963469\ttotal: 2.41s\tremaining: 4.82s\n",
      "333:\tlearn: 0.3963037\ttotal: 2.41s\tremaining: 4.81s\n",
      "334:\tlearn: 0.3962698\ttotal: 2.42s\tremaining: 4.8s\n",
      "335:\tlearn: 0.3962366\ttotal: 2.43s\tremaining: 4.8s\n",
      "336:\tlearn: 0.3961864\ttotal: 2.43s\tremaining: 4.79s\n",
      "337:\tlearn: 0.3961390\ttotal: 2.44s\tremaining: 4.78s\n",
      "338:\tlearn: 0.3960821\ttotal: 2.45s\tremaining: 4.78s\n",
      "339:\tlearn: 0.3960386\ttotal: 2.46s\tremaining: 4.77s\n",
      "340:\tlearn: 0.3960039\ttotal: 2.46s\tremaining: 4.76s\n",
      "341:\tlearn: 0.3959728\ttotal: 2.47s\tremaining: 4.75s\n",
      "342:\tlearn: 0.3959287\ttotal: 2.48s\tremaining: 4.75s\n",
      "343:\tlearn: 0.3958888\ttotal: 2.48s\tremaining: 4.74s\n",
      "344:\tlearn: 0.3958290\ttotal: 2.49s\tremaining: 4.73s\n",
      "345:\tlearn: 0.3958017\ttotal: 2.5s\tremaining: 4.73s\n",
      "346:\tlearn: 0.3957454\ttotal: 2.51s\tremaining: 4.72s\n",
      "347:\tlearn: 0.3957091\ttotal: 2.51s\tremaining: 4.71s\n",
      "348:\tlearn: 0.3956907\ttotal: 2.52s\tremaining: 4.7s\n",
      "349:\tlearn: 0.3956481\ttotal: 2.53s\tremaining: 4.7s\n",
      "350:\tlearn: 0.3956162\ttotal: 2.54s\tremaining: 4.69s\n",
      "351:\tlearn: 0.3955836\ttotal: 2.54s\tremaining: 4.68s\n",
      "352:\tlearn: 0.3955492\ttotal: 2.55s\tremaining: 4.67s\n",
      "353:\tlearn: 0.3954963\ttotal: 2.56s\tremaining: 4.67s\n",
      "354:\tlearn: 0.3954613\ttotal: 2.56s\tremaining: 4.66s\n",
      "355:\tlearn: 0.3954230\ttotal: 2.57s\tremaining: 4.66s\n",
      "356:\tlearn: 0.3953808\ttotal: 2.58s\tremaining: 4.65s\n",
      "357:\tlearn: 0.3953475\ttotal: 2.59s\tremaining: 4.64s\n",
      "358:\tlearn: 0.3953203\ttotal: 2.6s\tremaining: 4.63s\n",
      "359:\tlearn: 0.3952809\ttotal: 2.6s\tremaining: 4.63s\n",
      "360:\tlearn: 0.3952483\ttotal: 2.61s\tremaining: 4.62s\n",
      "361:\tlearn: 0.3951975\ttotal: 2.62s\tremaining: 4.61s\n",
      "362:\tlearn: 0.3951601\ttotal: 2.63s\tremaining: 4.61s\n",
      "363:\tlearn: 0.3951101\ttotal: 2.63s\tremaining: 4.6s\n",
      "364:\tlearn: 0.3950751\ttotal: 2.64s\tremaining: 4.59s\n",
      "365:\tlearn: 0.3950332\ttotal: 2.65s\tremaining: 4.58s\n",
      "366:\tlearn: 0.3949925\ttotal: 2.65s\tremaining: 4.58s\n",
      "367:\tlearn: 0.3949336\ttotal: 2.66s\tremaining: 4.57s\n",
      "368:\tlearn: 0.3948975\ttotal: 2.67s\tremaining: 4.56s\n",
      "369:\tlearn: 0.3948556\ttotal: 2.68s\tremaining: 4.56s\n",
      "370:\tlearn: 0.3948187\ttotal: 2.68s\tremaining: 4.55s\n",
      "371:\tlearn: 0.3947807\ttotal: 2.69s\tremaining: 4.54s\n",
      "372:\tlearn: 0.3947414\ttotal: 2.7s\tremaining: 4.53s\n",
      "373:\tlearn: 0.3947090\ttotal: 2.7s\tremaining: 4.53s\n",
      "374:\tlearn: 0.3946797\ttotal: 2.71s\tremaining: 4.52s\n",
      "375:\tlearn: 0.3946451\ttotal: 2.72s\tremaining: 4.51s\n",
      "376:\tlearn: 0.3946110\ttotal: 2.73s\tremaining: 4.5s\n",
      "377:\tlearn: 0.3945822\ttotal: 2.73s\tremaining: 4.5s\n",
      "378:\tlearn: 0.3945456\ttotal: 2.74s\tremaining: 4.49s\n",
      "379:\tlearn: 0.3944973\ttotal: 2.75s\tremaining: 4.48s\n",
      "380:\tlearn: 0.3944610\ttotal: 2.75s\tremaining: 4.48s\n",
      "381:\tlearn: 0.3944179\ttotal: 2.76s\tremaining: 4.47s\n",
      "382:\tlearn: 0.3943881\ttotal: 2.77s\tremaining: 4.46s\n",
      "383:\tlearn: 0.3943495\ttotal: 2.78s\tremaining: 4.46s\n",
      "384:\tlearn: 0.3942999\ttotal: 2.78s\tremaining: 4.45s\n",
      "385:\tlearn: 0.3942677\ttotal: 2.79s\tremaining: 4.44s\n",
      "386:\tlearn: 0.3942324\ttotal: 2.8s\tremaining: 4.43s\n",
      "387:\tlearn: 0.3941815\ttotal: 2.81s\tremaining: 4.43s\n",
      "388:\tlearn: 0.3941517\ttotal: 2.81s\tremaining: 4.42s\n",
      "389:\tlearn: 0.3941192\ttotal: 2.82s\tremaining: 4.41s\n",
      "390:\tlearn: 0.3940724\ttotal: 2.83s\tremaining: 4.4s\n",
      "391:\tlearn: 0.3940322\ttotal: 2.83s\tremaining: 4.4s\n",
      "392:\tlearn: 0.3939938\ttotal: 2.84s\tremaining: 4.39s\n",
      "393:\tlearn: 0.3939518\ttotal: 2.85s\tremaining: 4.38s\n",
      "394:\tlearn: 0.3939153\ttotal: 2.85s\tremaining: 4.37s\n",
      "395:\tlearn: 0.3938686\ttotal: 2.86s\tremaining: 4.37s\n",
      "396:\tlearn: 0.3938403\ttotal: 2.87s\tremaining: 4.36s\n",
      "397:\tlearn: 0.3938074\ttotal: 2.88s\tremaining: 4.35s\n",
      "398:\tlearn: 0.3937603\ttotal: 2.88s\tremaining: 4.34s\n",
      "399:\tlearn: 0.3937192\ttotal: 2.89s\tremaining: 4.34s\n",
      "400:\tlearn: 0.3936957\ttotal: 2.9s\tremaining: 4.33s\n",
      "401:\tlearn: 0.3936771\ttotal: 2.9s\tremaining: 4.32s\n",
      "402:\tlearn: 0.3936319\ttotal: 2.91s\tremaining: 4.32s\n",
      "403:\tlearn: 0.3936026\ttotal: 2.92s\tremaining: 4.31s\n",
      "404:\tlearn: 0.3935659\ttotal: 2.93s\tremaining: 4.3s\n",
      "405:\tlearn: 0.3935391\ttotal: 2.93s\tremaining: 4.29s\n",
      "406:\tlearn: 0.3935072\ttotal: 2.94s\tremaining: 4.29s\n",
      "407:\tlearn: 0.3934531\ttotal: 2.95s\tremaining: 4.28s\n",
      "408:\tlearn: 0.3934297\ttotal: 2.96s\tremaining: 4.27s\n",
      "409:\tlearn: 0.3934141\ttotal: 2.96s\tremaining: 4.26s\n",
      "410:\tlearn: 0.3933605\ttotal: 2.97s\tremaining: 4.26s\n",
      "411:\tlearn: 0.3933222\ttotal: 2.98s\tremaining: 4.25s\n",
      "412:\tlearn: 0.3932776\ttotal: 2.98s\tremaining: 4.24s\n",
      "413:\tlearn: 0.3932435\ttotal: 2.99s\tremaining: 4.24s\n",
      "414:\tlearn: 0.3932136\ttotal: 3s\tremaining: 4.23s\n",
      "415:\tlearn: 0.3931763\ttotal: 3.01s\tremaining: 4.22s\n",
      "416:\tlearn: 0.3931518\ttotal: 3.01s\tremaining: 4.21s\n",
      "417:\tlearn: 0.3931049\ttotal: 3.02s\tremaining: 4.21s\n",
      "418:\tlearn: 0.3930706\ttotal: 3.03s\tremaining: 4.2s\n",
      "419:\tlearn: 0.3930322\ttotal: 3.04s\tremaining: 4.19s\n",
      "420:\tlearn: 0.3930039\ttotal: 3.04s\tremaining: 4.18s\n",
      "421:\tlearn: 0.3929684\ttotal: 3.05s\tremaining: 4.18s\n",
      "422:\tlearn: 0.3929167\ttotal: 3.06s\tremaining: 4.17s\n",
      "423:\tlearn: 0.3928888\ttotal: 3.06s\tremaining: 4.16s\n",
      "424:\tlearn: 0.3928536\ttotal: 3.07s\tremaining: 4.16s\n",
      "425:\tlearn: 0.3928288\ttotal: 3.08s\tremaining: 4.15s\n",
      "426:\tlearn: 0.3927978\ttotal: 3.09s\tremaining: 4.14s\n",
      "427:\tlearn: 0.3927632\ttotal: 3.09s\tremaining: 4.13s\n",
      "428:\tlearn: 0.3927425\ttotal: 3.1s\tremaining: 4.13s\n",
      "429:\tlearn: 0.3927037\ttotal: 3.11s\tremaining: 4.12s\n",
      "430:\tlearn: 0.3926576\ttotal: 3.11s\tremaining: 4.11s\n",
      "431:\tlearn: 0.3926211\ttotal: 3.12s\tremaining: 4.1s\n",
      "432:\tlearn: 0.3925867\ttotal: 3.13s\tremaining: 4.09s\n",
      "433:\tlearn: 0.3925515\ttotal: 3.13s\tremaining: 4.09s\n",
      "434:\tlearn: 0.3925240\ttotal: 3.14s\tremaining: 4.08s\n",
      "435:\tlearn: 0.3925029\ttotal: 3.15s\tremaining: 4.07s\n",
      "436:\tlearn: 0.3924649\ttotal: 3.16s\tremaining: 4.07s\n",
      "437:\tlearn: 0.3924245\ttotal: 3.16s\tremaining: 4.06s\n",
      "438:\tlearn: 0.3923692\ttotal: 3.17s\tremaining: 4.05s\n",
      "439:\tlearn: 0.3923464\ttotal: 3.18s\tremaining: 4.04s\n",
      "440:\tlearn: 0.3923142\ttotal: 3.18s\tremaining: 4.04s\n",
      "441:\tlearn: 0.3922865\ttotal: 3.19s\tremaining: 4.03s\n",
      "442:\tlearn: 0.3922471\ttotal: 3.2s\tremaining: 4.02s\n",
      "443:\tlearn: 0.3922132\ttotal: 3.21s\tremaining: 4.01s\n",
      "444:\tlearn: 0.3921965\ttotal: 3.21s\tremaining: 4.01s\n",
      "445:\tlearn: 0.3921546\ttotal: 3.22s\tremaining: 4s\n",
      "446:\tlearn: 0.3921211\ttotal: 3.23s\tremaining: 3.99s\n",
      "447:\tlearn: 0.3920947\ttotal: 3.23s\tremaining: 3.98s\n",
      "448:\tlearn: 0.3920710\ttotal: 3.24s\tremaining: 3.98s\n",
      "449:\tlearn: 0.3920399\ttotal: 3.25s\tremaining: 3.97s\n",
      "450:\tlearn: 0.3920124\ttotal: 3.25s\tremaining: 3.96s\n",
      "451:\tlearn: 0.3919876\ttotal: 3.26s\tremaining: 3.95s\n",
      "452:\tlearn: 0.3919563\ttotal: 3.27s\tremaining: 3.95s\n",
      "453:\tlearn: 0.3919217\ttotal: 3.28s\tremaining: 3.94s\n",
      "454:\tlearn: 0.3918945\ttotal: 3.28s\tremaining: 3.93s\n",
      "455:\tlearn: 0.3918632\ttotal: 3.29s\tremaining: 3.92s\n",
      "456:\tlearn: 0.3918238\ttotal: 3.3s\tremaining: 3.92s\n",
      "457:\tlearn: 0.3917946\ttotal: 3.3s\tremaining: 3.91s\n",
      "458:\tlearn: 0.3917457\ttotal: 3.31s\tremaining: 3.9s\n",
      "459:\tlearn: 0.3917175\ttotal: 3.32s\tremaining: 3.9s\n",
      "460:\tlearn: 0.3916902\ttotal: 3.33s\tremaining: 3.89s\n",
      "461:\tlearn: 0.3916597\ttotal: 3.33s\tremaining: 3.88s\n",
      "462:\tlearn: 0.3916123\ttotal: 3.34s\tremaining: 3.87s\n",
      "463:\tlearn: 0.3915830\ttotal: 3.35s\tremaining: 3.87s\n",
      "464:\tlearn: 0.3915417\ttotal: 3.35s\tremaining: 3.86s\n",
      "465:\tlearn: 0.3915123\ttotal: 3.36s\tremaining: 3.85s\n",
      "466:\tlearn: 0.3914736\ttotal: 3.37s\tremaining: 3.85s\n",
      "467:\tlearn: 0.3914371\ttotal: 3.38s\tremaining: 3.84s\n",
      "468:\tlearn: 0.3914021\ttotal: 3.38s\tremaining: 3.83s\n",
      "469:\tlearn: 0.3913796\ttotal: 3.39s\tremaining: 3.82s\n",
      "470:\tlearn: 0.3913340\ttotal: 3.4s\tremaining: 3.81s\n",
      "471:\tlearn: 0.3912949\ttotal: 3.4s\tremaining: 3.81s\n",
      "472:\tlearn: 0.3912553\ttotal: 3.41s\tremaining: 3.8s\n",
      "473:\tlearn: 0.3912166\ttotal: 3.42s\tremaining: 3.79s\n",
      "474:\tlearn: 0.3911842\ttotal: 3.43s\tremaining: 3.79s\n",
      "475:\tlearn: 0.3911503\ttotal: 3.43s\tremaining: 3.78s\n",
      "476:\tlearn: 0.3911105\ttotal: 3.44s\tremaining: 3.77s\n",
      "477:\tlearn: 0.3910740\ttotal: 3.45s\tremaining: 3.77s\n",
      "478:\tlearn: 0.3910292\ttotal: 3.46s\tremaining: 3.76s\n",
      "479:\tlearn: 0.3909906\ttotal: 3.46s\tremaining: 3.75s\n",
      "480:\tlearn: 0.3909582\ttotal: 3.47s\tremaining: 3.74s\n",
      "481:\tlearn: 0.3909175\ttotal: 3.48s\tremaining: 3.74s\n",
      "482:\tlearn: 0.3908817\ttotal: 3.48s\tremaining: 3.73s\n",
      "483:\tlearn: 0.3908581\ttotal: 3.49s\tremaining: 3.72s\n",
      "484:\tlearn: 0.3908125\ttotal: 3.5s\tremaining: 3.71s\n",
      "485:\tlearn: 0.3907691\ttotal: 3.5s\tremaining: 3.71s\n",
      "486:\tlearn: 0.3907339\ttotal: 3.51s\tremaining: 3.7s\n",
      "487:\tlearn: 0.3907020\ttotal: 3.52s\tremaining: 3.69s\n",
      "488:\tlearn: 0.3906763\ttotal: 3.52s\tremaining: 3.68s\n",
      "489:\tlearn: 0.3906386\ttotal: 3.53s\tremaining: 3.68s\n",
      "490:\tlearn: 0.3906069\ttotal: 3.54s\tremaining: 3.67s\n",
      "491:\tlearn: 0.3905806\ttotal: 3.55s\tremaining: 3.66s\n",
      "492:\tlearn: 0.3905374\ttotal: 3.56s\tremaining: 3.66s\n",
      "493:\tlearn: 0.3904976\ttotal: 3.56s\tremaining: 3.65s\n",
      "494:\tlearn: 0.3904654\ttotal: 3.57s\tremaining: 3.64s\n",
      "495:\tlearn: 0.3904318\ttotal: 3.58s\tremaining: 3.63s\n",
      "496:\tlearn: 0.3903998\ttotal: 3.58s\tremaining: 3.63s\n",
      "497:\tlearn: 0.3903591\ttotal: 3.59s\tremaining: 3.62s\n",
      "498:\tlearn: 0.3903263\ttotal: 3.6s\tremaining: 3.61s\n",
      "499:\tlearn: 0.3902936\ttotal: 3.6s\tremaining: 3.6s\n",
      "500:\tlearn: 0.3902663\ttotal: 3.61s\tremaining: 3.6s\n",
      "501:\tlearn: 0.3902239\ttotal: 3.62s\tremaining: 3.59s\n",
      "502:\tlearn: 0.3901904\ttotal: 3.63s\tremaining: 3.58s\n",
      "503:\tlearn: 0.3901467\ttotal: 3.63s\tremaining: 3.58s\n",
      "504:\tlearn: 0.3901129\ttotal: 3.64s\tremaining: 3.57s\n",
      "505:\tlearn: 0.3900871\ttotal: 3.65s\tremaining: 3.56s\n",
      "506:\tlearn: 0.3900677\ttotal: 3.65s\tremaining: 3.55s\n",
      "507:\tlearn: 0.3900353\ttotal: 3.66s\tremaining: 3.55s\n",
      "508:\tlearn: 0.3900102\ttotal: 3.67s\tremaining: 3.54s\n",
      "509:\tlearn: 0.3899651\ttotal: 3.68s\tremaining: 3.54s\n",
      "510:\tlearn: 0.3899259\ttotal: 3.69s\tremaining: 3.53s\n",
      "511:\tlearn: 0.3898874\ttotal: 3.69s\tremaining: 3.52s\n",
      "512:\tlearn: 0.3898609\ttotal: 3.7s\tremaining: 3.51s\n",
      "513:\tlearn: 0.3898310\ttotal: 3.71s\tremaining: 3.51s\n",
      "514:\tlearn: 0.3898056\ttotal: 3.71s\tremaining: 3.5s\n",
      "515:\tlearn: 0.3897758\ttotal: 3.72s\tremaining: 3.49s\n",
      "516:\tlearn: 0.3897411\ttotal: 3.73s\tremaining: 3.48s\n",
      "517:\tlearn: 0.3897085\ttotal: 3.74s\tremaining: 3.48s\n",
      "518:\tlearn: 0.3896667\ttotal: 3.74s\tremaining: 3.47s\n",
      "519:\tlearn: 0.3896261\ttotal: 3.75s\tremaining: 3.46s\n",
      "520:\tlearn: 0.3895833\ttotal: 3.76s\tremaining: 3.46s\n",
      "521:\tlearn: 0.3895421\ttotal: 3.77s\tremaining: 3.45s\n",
      "522:\tlearn: 0.3895101\ttotal: 3.77s\tremaining: 3.44s\n",
      "523:\tlearn: 0.3894824\ttotal: 3.78s\tremaining: 3.43s\n",
      "524:\tlearn: 0.3894544\ttotal: 3.79s\tremaining: 3.43s\n",
      "525:\tlearn: 0.3894258\ttotal: 3.79s\tremaining: 3.42s\n",
      "526:\tlearn: 0.3894033\ttotal: 3.8s\tremaining: 3.41s\n",
      "527:\tlearn: 0.3893706\ttotal: 3.81s\tremaining: 3.4s\n",
      "528:\tlearn: 0.3893421\ttotal: 3.82s\tremaining: 3.4s\n",
      "529:\tlearn: 0.3893063\ttotal: 3.82s\tremaining: 3.39s\n",
      "530:\tlearn: 0.3892850\ttotal: 3.83s\tremaining: 3.38s\n",
      "531:\tlearn: 0.3892462\ttotal: 3.84s\tremaining: 3.38s\n",
      "532:\tlearn: 0.3892174\ttotal: 3.85s\tremaining: 3.37s\n",
      "533:\tlearn: 0.3891591\ttotal: 3.85s\tremaining: 3.36s\n",
      "534:\tlearn: 0.3891372\ttotal: 3.86s\tremaining: 3.35s\n",
      "535:\tlearn: 0.3891019\ttotal: 3.87s\tremaining: 3.35s\n",
      "536:\tlearn: 0.3890635\ttotal: 3.87s\tremaining: 3.34s\n",
      "537:\tlearn: 0.3890328\ttotal: 3.88s\tremaining: 3.33s\n",
      "538:\tlearn: 0.3889998\ttotal: 3.89s\tremaining: 3.33s\n",
      "539:\tlearn: 0.3889686\ttotal: 3.9s\tremaining: 3.32s\n",
      "540:\tlearn: 0.3889444\ttotal: 3.9s\tremaining: 3.31s\n",
      "541:\tlearn: 0.3888807\ttotal: 3.91s\tremaining: 3.3s\n",
      "542:\tlearn: 0.3888537\ttotal: 3.92s\tremaining: 3.3s\n",
      "543:\tlearn: 0.3888249\ttotal: 3.92s\tremaining: 3.29s\n",
      "544:\tlearn: 0.3887919\ttotal: 3.93s\tremaining: 3.28s\n",
      "545:\tlearn: 0.3887519\ttotal: 3.94s\tremaining: 3.28s\n",
      "546:\tlearn: 0.3887042\ttotal: 3.95s\tremaining: 3.27s\n",
      "547:\tlearn: 0.3886575\ttotal: 3.96s\tremaining: 3.26s\n",
      "548:\tlearn: 0.3886259\ttotal: 3.96s\tremaining: 3.25s\n",
      "549:\tlearn: 0.3885758\ttotal: 3.97s\tremaining: 3.25s\n",
      "550:\tlearn: 0.3885402\ttotal: 3.98s\tremaining: 3.24s\n",
      "551:\tlearn: 0.3885131\ttotal: 3.98s\tremaining: 3.23s\n",
      "552:\tlearn: 0.3884869\ttotal: 3.99s\tremaining: 3.23s\n",
      "553:\tlearn: 0.3884581\ttotal: 4s\tremaining: 3.22s\n",
      "554:\tlearn: 0.3884349\ttotal: 4s\tremaining: 3.21s\n",
      "555:\tlearn: 0.3884070\ttotal: 4.01s\tremaining: 3.2s\n",
      "556:\tlearn: 0.3883668\ttotal: 4.02s\tremaining: 3.2s\n",
      "557:\tlearn: 0.3883302\ttotal: 4.03s\tremaining: 3.19s\n",
      "558:\tlearn: 0.3882816\ttotal: 4.03s\tremaining: 3.18s\n",
      "559:\tlearn: 0.3882431\ttotal: 4.04s\tremaining: 3.18s\n",
      "560:\tlearn: 0.3882153\ttotal: 4.05s\tremaining: 3.17s\n",
      "561:\tlearn: 0.3881847\ttotal: 4.06s\tremaining: 3.16s\n",
      "562:\tlearn: 0.3881633\ttotal: 4.06s\tremaining: 3.15s\n",
      "563:\tlearn: 0.3881301\ttotal: 4.07s\tremaining: 3.15s\n",
      "564:\tlearn: 0.3881113\ttotal: 4.08s\tremaining: 3.14s\n",
      "565:\tlearn: 0.3880794\ttotal: 4.08s\tremaining: 3.13s\n",
      "566:\tlearn: 0.3880530\ttotal: 4.09s\tremaining: 3.12s\n",
      "567:\tlearn: 0.3880119\ttotal: 4.1s\tremaining: 3.12s\n",
      "568:\tlearn: 0.3879839\ttotal: 4.11s\tremaining: 3.11s\n",
      "569:\tlearn: 0.3879435\ttotal: 4.11s\tremaining: 3.1s\n",
      "570:\tlearn: 0.3879080\ttotal: 4.12s\tremaining: 3.1s\n",
      "571:\tlearn: 0.3878797\ttotal: 4.13s\tremaining: 3.09s\n",
      "572:\tlearn: 0.3878576\ttotal: 4.13s\tremaining: 3.08s\n",
      "573:\tlearn: 0.3878326\ttotal: 4.14s\tremaining: 3.07s\n",
      "574:\tlearn: 0.3878013\ttotal: 4.15s\tremaining: 3.06s\n",
      "575:\tlearn: 0.3877665\ttotal: 4.15s\tremaining: 3.06s\n",
      "576:\tlearn: 0.3877456\ttotal: 4.16s\tremaining: 3.05s\n",
      "577:\tlearn: 0.3877163\ttotal: 4.17s\tremaining: 3.04s\n",
      "578:\tlearn: 0.3876808\ttotal: 4.17s\tremaining: 3.04s\n",
      "579:\tlearn: 0.3876473\ttotal: 4.18s\tremaining: 3.03s\n",
      "580:\tlearn: 0.3875958\ttotal: 4.19s\tremaining: 3.02s\n",
      "581:\tlearn: 0.3875678\ttotal: 4.2s\tremaining: 3.01s\n",
      "582:\tlearn: 0.3875302\ttotal: 4.2s\tremaining: 3.01s\n",
      "583:\tlearn: 0.3874941\ttotal: 4.21s\tremaining: 3s\n",
      "584:\tlearn: 0.3874626\ttotal: 4.22s\tremaining: 2.99s\n",
      "585:\tlearn: 0.3874283\ttotal: 4.22s\tremaining: 2.98s\n",
      "586:\tlearn: 0.3873956\ttotal: 4.23s\tremaining: 2.98s\n",
      "587:\tlearn: 0.3873548\ttotal: 4.24s\tremaining: 2.97s\n",
      "588:\tlearn: 0.3873229\ttotal: 4.25s\tremaining: 2.96s\n",
      "589:\tlearn: 0.3873013\ttotal: 4.25s\tremaining: 2.96s\n",
      "590:\tlearn: 0.3872763\ttotal: 4.26s\tremaining: 2.95s\n",
      "591:\tlearn: 0.3872417\ttotal: 4.27s\tremaining: 2.94s\n",
      "592:\tlearn: 0.3872123\ttotal: 4.28s\tremaining: 2.93s\n",
      "593:\tlearn: 0.3871777\ttotal: 4.28s\tremaining: 2.93s\n",
      "594:\tlearn: 0.3871452\ttotal: 4.29s\tremaining: 2.92s\n",
      "595:\tlearn: 0.3871174\ttotal: 4.3s\tremaining: 2.91s\n",
      "596:\tlearn: 0.3870783\ttotal: 4.3s\tremaining: 2.9s\n",
      "597:\tlearn: 0.3870454\ttotal: 4.31s\tremaining: 2.9s\n",
      "598:\tlearn: 0.3870139\ttotal: 4.32s\tremaining: 2.89s\n",
      "599:\tlearn: 0.3869698\ttotal: 4.33s\tremaining: 2.88s\n",
      "600:\tlearn: 0.3869238\ttotal: 4.33s\tremaining: 2.88s\n",
      "601:\tlearn: 0.3868861\ttotal: 4.34s\tremaining: 2.87s\n",
      "602:\tlearn: 0.3868519\ttotal: 4.35s\tremaining: 2.86s\n",
      "603:\tlearn: 0.3868133\ttotal: 4.36s\tremaining: 2.85s\n",
      "604:\tlearn: 0.3867842\ttotal: 4.36s\tremaining: 2.85s\n",
      "605:\tlearn: 0.3867576\ttotal: 4.37s\tremaining: 2.84s\n",
      "606:\tlearn: 0.3867217\ttotal: 4.38s\tremaining: 2.83s\n",
      "607:\tlearn: 0.3866976\ttotal: 4.38s\tremaining: 2.83s\n",
      "608:\tlearn: 0.3866723\ttotal: 4.39s\tremaining: 2.82s\n",
      "609:\tlearn: 0.3866407\ttotal: 4.4s\tremaining: 2.81s\n",
      "610:\tlearn: 0.3866002\ttotal: 4.4s\tremaining: 2.8s\n",
      "611:\tlearn: 0.3865786\ttotal: 4.41s\tremaining: 2.8s\n",
      "612:\tlearn: 0.3865483\ttotal: 4.42s\tremaining: 2.79s\n",
      "613:\tlearn: 0.3865167\ttotal: 4.42s\tremaining: 2.78s\n",
      "614:\tlearn: 0.3864806\ttotal: 4.43s\tremaining: 2.77s\n",
      "615:\tlearn: 0.3864386\ttotal: 4.44s\tremaining: 2.77s\n",
      "616:\tlearn: 0.3864198\ttotal: 4.45s\tremaining: 2.76s\n",
      "617:\tlearn: 0.3863871\ttotal: 4.45s\tremaining: 2.75s\n",
      "618:\tlearn: 0.3863487\ttotal: 4.46s\tremaining: 2.75s\n",
      "619:\tlearn: 0.3863205\ttotal: 4.47s\tremaining: 2.74s\n",
      "620:\tlearn: 0.3862847\ttotal: 4.47s\tremaining: 2.73s\n",
      "621:\tlearn: 0.3862572\ttotal: 4.48s\tremaining: 2.72s\n",
      "622:\tlearn: 0.3862165\ttotal: 4.49s\tremaining: 2.72s\n",
      "623:\tlearn: 0.3861908\ttotal: 4.5s\tremaining: 2.71s\n",
      "624:\tlearn: 0.3861602\ttotal: 4.5s\tremaining: 2.7s\n",
      "625:\tlearn: 0.3861229\ttotal: 4.51s\tremaining: 2.69s\n",
      "626:\tlearn: 0.3860858\ttotal: 4.52s\tremaining: 2.69s\n",
      "627:\tlearn: 0.3860595\ttotal: 4.53s\tremaining: 2.68s\n",
      "628:\tlearn: 0.3860352\ttotal: 4.53s\tremaining: 2.67s\n",
      "629:\tlearn: 0.3860102\ttotal: 4.54s\tremaining: 2.67s\n",
      "630:\tlearn: 0.3859774\ttotal: 4.55s\tremaining: 2.66s\n",
      "631:\tlearn: 0.3859343\ttotal: 4.55s\tremaining: 2.65s\n",
      "632:\tlearn: 0.3859017\ttotal: 4.56s\tremaining: 2.64s\n",
      "633:\tlearn: 0.3858674\ttotal: 4.57s\tremaining: 2.64s\n",
      "634:\tlearn: 0.3858430\ttotal: 4.58s\tremaining: 2.63s\n",
      "635:\tlearn: 0.3858089\ttotal: 4.58s\tremaining: 2.62s\n",
      "636:\tlearn: 0.3857846\ttotal: 4.59s\tremaining: 2.62s\n",
      "637:\tlearn: 0.3857573\ttotal: 4.6s\tremaining: 2.61s\n",
      "638:\tlearn: 0.3857182\ttotal: 4.6s\tremaining: 2.6s\n",
      "639:\tlearn: 0.3856842\ttotal: 4.61s\tremaining: 2.59s\n",
      "640:\tlearn: 0.3856507\ttotal: 4.62s\tremaining: 2.59s\n",
      "641:\tlearn: 0.3856128\ttotal: 4.63s\tremaining: 2.58s\n",
      "642:\tlearn: 0.3855672\ttotal: 4.63s\tremaining: 2.57s\n",
      "643:\tlearn: 0.3855318\ttotal: 4.64s\tremaining: 2.56s\n",
      "644:\tlearn: 0.3855088\ttotal: 4.65s\tremaining: 2.56s\n",
      "645:\tlearn: 0.3854770\ttotal: 4.65s\tremaining: 2.55s\n",
      "646:\tlearn: 0.3854410\ttotal: 4.66s\tremaining: 2.54s\n",
      "647:\tlearn: 0.3854116\ttotal: 4.67s\tremaining: 2.54s\n",
      "648:\tlearn: 0.3853782\ttotal: 4.68s\tremaining: 2.53s\n",
      "649:\tlearn: 0.3853543\ttotal: 4.68s\tremaining: 2.52s\n",
      "650:\tlearn: 0.3853170\ttotal: 4.69s\tremaining: 2.51s\n",
      "651:\tlearn: 0.3852655\ttotal: 4.7s\tremaining: 2.51s\n",
      "652:\tlearn: 0.3852464\ttotal: 4.71s\tremaining: 2.5s\n",
      "653:\tlearn: 0.3852245\ttotal: 4.71s\tremaining: 2.49s\n",
      "654:\tlearn: 0.3851985\ttotal: 4.72s\tremaining: 2.48s\n",
      "655:\tlearn: 0.3851695\ttotal: 4.73s\tremaining: 2.48s\n",
      "656:\tlearn: 0.3851433\ttotal: 4.73s\tremaining: 2.47s\n",
      "657:\tlearn: 0.3851089\ttotal: 4.74s\tremaining: 2.46s\n",
      "658:\tlearn: 0.3850843\ttotal: 4.75s\tremaining: 2.46s\n",
      "659:\tlearn: 0.3850546\ttotal: 4.75s\tremaining: 2.45s\n",
      "660:\tlearn: 0.3850151\ttotal: 4.76s\tremaining: 2.44s\n",
      "661:\tlearn: 0.3849831\ttotal: 4.77s\tremaining: 2.44s\n",
      "662:\tlearn: 0.3849513\ttotal: 4.78s\tremaining: 2.43s\n",
      "663:\tlearn: 0.3849138\ttotal: 4.78s\tremaining: 2.42s\n",
      "664:\tlearn: 0.3848786\ttotal: 4.79s\tremaining: 2.41s\n",
      "665:\tlearn: 0.3848414\ttotal: 4.8s\tremaining: 2.41s\n",
      "666:\tlearn: 0.3848047\ttotal: 4.81s\tremaining: 2.4s\n",
      "667:\tlearn: 0.3847666\ttotal: 4.81s\tremaining: 2.39s\n",
      "668:\tlearn: 0.3847214\ttotal: 4.82s\tremaining: 2.38s\n",
      "669:\tlearn: 0.3846872\ttotal: 4.83s\tremaining: 2.38s\n",
      "670:\tlearn: 0.3846638\ttotal: 4.83s\tremaining: 2.37s\n",
      "671:\tlearn: 0.3846377\ttotal: 4.84s\tremaining: 2.36s\n",
      "672:\tlearn: 0.3846131\ttotal: 4.85s\tremaining: 2.35s\n",
      "673:\tlearn: 0.3845833\ttotal: 4.86s\tremaining: 2.35s\n",
      "674:\tlearn: 0.3845452\ttotal: 4.86s\tremaining: 2.34s\n",
      "675:\tlearn: 0.3845172\ttotal: 4.87s\tremaining: 2.33s\n",
      "676:\tlearn: 0.3844901\ttotal: 4.88s\tremaining: 2.33s\n",
      "677:\tlearn: 0.3844462\ttotal: 4.88s\tremaining: 2.32s\n",
      "678:\tlearn: 0.3844163\ttotal: 4.89s\tremaining: 2.31s\n",
      "679:\tlearn: 0.3843945\ttotal: 4.9s\tremaining: 2.31s\n",
      "680:\tlearn: 0.3843555\ttotal: 4.91s\tremaining: 2.3s\n",
      "681:\tlearn: 0.3843279\ttotal: 4.91s\tremaining: 2.29s\n",
      "682:\tlearn: 0.3842958\ttotal: 4.92s\tremaining: 2.28s\n",
      "683:\tlearn: 0.3842788\ttotal: 4.93s\tremaining: 2.27s\n",
      "684:\tlearn: 0.3842384\ttotal: 4.93s\tremaining: 2.27s\n",
      "685:\tlearn: 0.3842059\ttotal: 4.94s\tremaining: 2.26s\n",
      "686:\tlearn: 0.3841736\ttotal: 4.95s\tremaining: 2.25s\n",
      "687:\tlearn: 0.3841306\ttotal: 4.96s\tremaining: 2.25s\n",
      "688:\tlearn: 0.3840887\ttotal: 4.96s\tremaining: 2.24s\n",
      "689:\tlearn: 0.3840562\ttotal: 4.97s\tremaining: 2.23s\n",
      "690:\tlearn: 0.3840240\ttotal: 4.98s\tremaining: 2.23s\n",
      "691:\tlearn: 0.3839902\ttotal: 4.98s\tremaining: 2.22s\n",
      "692:\tlearn: 0.3839495\ttotal: 4.99s\tremaining: 2.21s\n",
      "693:\tlearn: 0.3839209\ttotal: 5s\tremaining: 2.2s\n",
      "694:\tlearn: 0.3838857\ttotal: 5.01s\tremaining: 2.2s\n",
      "695:\tlearn: 0.3838627\ttotal: 5.01s\tremaining: 2.19s\n",
      "696:\tlearn: 0.3838469\ttotal: 5.02s\tremaining: 2.18s\n",
      "697:\tlearn: 0.3838184\ttotal: 5.03s\tremaining: 2.17s\n",
      "698:\tlearn: 0.3837864\ttotal: 5.03s\tremaining: 2.17s\n",
      "699:\tlearn: 0.3837585\ttotal: 5.04s\tremaining: 2.16s\n",
      "700:\tlearn: 0.3837313\ttotal: 5.05s\tremaining: 2.15s\n",
      "701:\tlearn: 0.3836936\ttotal: 5.05s\tremaining: 2.15s\n",
      "702:\tlearn: 0.3836722\ttotal: 5.06s\tremaining: 2.14s\n",
      "703:\tlearn: 0.3836351\ttotal: 5.07s\tremaining: 2.13s\n",
      "704:\tlearn: 0.3836030\ttotal: 5.08s\tremaining: 2.12s\n",
      "705:\tlearn: 0.3835750\ttotal: 5.08s\tremaining: 2.12s\n",
      "706:\tlearn: 0.3835384\ttotal: 5.09s\tremaining: 2.11s\n",
      "707:\tlearn: 0.3835067\ttotal: 5.1s\tremaining: 2.1s\n",
      "708:\tlearn: 0.3834671\ttotal: 5.11s\tremaining: 2.1s\n",
      "709:\tlearn: 0.3834340\ttotal: 5.11s\tremaining: 2.09s\n",
      "710:\tlearn: 0.3834070\ttotal: 5.12s\tremaining: 2.08s\n",
      "711:\tlearn: 0.3833792\ttotal: 5.13s\tremaining: 2.07s\n",
      "712:\tlearn: 0.3833505\ttotal: 5.13s\tremaining: 2.07s\n",
      "713:\tlearn: 0.3833114\ttotal: 5.14s\tremaining: 2.06s\n",
      "714:\tlearn: 0.3832879\ttotal: 5.15s\tremaining: 2.05s\n",
      "715:\tlearn: 0.3832593\ttotal: 5.16s\tremaining: 2.04s\n",
      "716:\tlearn: 0.3832048\ttotal: 5.16s\tremaining: 2.04s\n",
      "717:\tlearn: 0.3831679\ttotal: 5.17s\tremaining: 2.03s\n",
      "718:\tlearn: 0.3831342\ttotal: 5.18s\tremaining: 2.02s\n",
      "719:\tlearn: 0.3830991\ttotal: 5.18s\tremaining: 2.02s\n",
      "720:\tlearn: 0.3830796\ttotal: 5.19s\tremaining: 2.01s\n",
      "721:\tlearn: 0.3830447\ttotal: 5.2s\tremaining: 2s\n",
      "722:\tlearn: 0.3830192\ttotal: 5.21s\tremaining: 1.99s\n",
      "723:\tlearn: 0.3829895\ttotal: 5.21s\tremaining: 1.99s\n",
      "724:\tlearn: 0.3829596\ttotal: 5.22s\tremaining: 1.98s\n",
      "725:\tlearn: 0.3829369\ttotal: 5.23s\tremaining: 1.97s\n",
      "726:\tlearn: 0.3829112\ttotal: 5.23s\tremaining: 1.97s\n",
      "727:\tlearn: 0.3828860\ttotal: 5.24s\tremaining: 1.96s\n",
      "728:\tlearn: 0.3828561\ttotal: 5.25s\tremaining: 1.95s\n",
      "729:\tlearn: 0.3828313\ttotal: 5.25s\tremaining: 1.94s\n",
      "730:\tlearn: 0.3828108\ttotal: 5.26s\tremaining: 1.94s\n",
      "731:\tlearn: 0.3827871\ttotal: 5.27s\tremaining: 1.93s\n",
      "732:\tlearn: 0.3827531\ttotal: 5.28s\tremaining: 1.92s\n",
      "733:\tlearn: 0.3827297\ttotal: 5.28s\tremaining: 1.91s\n",
      "734:\tlearn: 0.3827009\ttotal: 5.29s\tremaining: 1.91s\n",
      "735:\tlearn: 0.3826559\ttotal: 5.3s\tremaining: 1.9s\n",
      "736:\tlearn: 0.3826221\ttotal: 5.3s\tremaining: 1.89s\n",
      "737:\tlearn: 0.3825922\ttotal: 5.31s\tremaining: 1.89s\n",
      "738:\tlearn: 0.3825582\ttotal: 5.32s\tremaining: 1.88s\n",
      "739:\tlearn: 0.3825296\ttotal: 5.33s\tremaining: 1.87s\n",
      "740:\tlearn: 0.3825083\ttotal: 5.33s\tremaining: 1.86s\n",
      "741:\tlearn: 0.3824792\ttotal: 5.34s\tremaining: 1.86s\n",
      "742:\tlearn: 0.3824502\ttotal: 5.35s\tremaining: 1.85s\n",
      "743:\tlearn: 0.3824215\ttotal: 5.36s\tremaining: 1.84s\n",
      "744:\tlearn: 0.3823917\ttotal: 5.36s\tremaining: 1.83s\n",
      "745:\tlearn: 0.3823688\ttotal: 5.37s\tremaining: 1.83s\n",
      "746:\tlearn: 0.3823368\ttotal: 5.38s\tremaining: 1.82s\n",
      "747:\tlearn: 0.3823143\ttotal: 5.38s\tremaining: 1.81s\n",
      "748:\tlearn: 0.3822887\ttotal: 5.39s\tremaining: 1.81s\n",
      "749:\tlearn: 0.3822655\ttotal: 5.4s\tremaining: 1.8s\n",
      "750:\tlearn: 0.3822335\ttotal: 5.41s\tremaining: 1.79s\n",
      "751:\tlearn: 0.3822125\ttotal: 5.41s\tremaining: 1.78s\n",
      "752:\tlearn: 0.3821799\ttotal: 5.42s\tremaining: 1.78s\n",
      "753:\tlearn: 0.3821376\ttotal: 5.43s\tremaining: 1.77s\n",
      "754:\tlearn: 0.3821169\ttotal: 5.43s\tremaining: 1.76s\n",
      "755:\tlearn: 0.3820839\ttotal: 5.44s\tremaining: 1.76s\n",
      "756:\tlearn: 0.3820473\ttotal: 5.45s\tremaining: 1.75s\n",
      "757:\tlearn: 0.3820105\ttotal: 5.46s\tremaining: 1.74s\n",
      "758:\tlearn: 0.3819829\ttotal: 5.46s\tremaining: 1.73s\n",
      "759:\tlearn: 0.3819418\ttotal: 5.47s\tremaining: 1.73s\n",
      "760:\tlearn: 0.3819207\ttotal: 5.48s\tremaining: 1.72s\n",
      "761:\tlearn: 0.3818927\ttotal: 5.48s\tremaining: 1.71s\n",
      "762:\tlearn: 0.3818526\ttotal: 5.49s\tremaining: 1.71s\n",
      "763:\tlearn: 0.3818290\ttotal: 5.5s\tremaining: 1.7s\n",
      "764:\tlearn: 0.3817844\ttotal: 5.5s\tremaining: 1.69s\n",
      "765:\tlearn: 0.3817558\ttotal: 5.51s\tremaining: 1.68s\n",
      "766:\tlearn: 0.3817354\ttotal: 5.52s\tremaining: 1.68s\n",
      "767:\tlearn: 0.3817039\ttotal: 5.53s\tremaining: 1.67s\n",
      "768:\tlearn: 0.3816685\ttotal: 5.53s\tremaining: 1.66s\n",
      "769:\tlearn: 0.3816358\ttotal: 5.54s\tremaining: 1.66s\n",
      "770:\tlearn: 0.3816043\ttotal: 5.55s\tremaining: 1.65s\n",
      "771:\tlearn: 0.3815731\ttotal: 5.56s\tremaining: 1.64s\n",
      "772:\tlearn: 0.3815291\ttotal: 5.57s\tremaining: 1.63s\n",
      "773:\tlearn: 0.3814999\ttotal: 5.57s\tremaining: 1.63s\n",
      "774:\tlearn: 0.3814734\ttotal: 5.58s\tremaining: 1.62s\n",
      "775:\tlearn: 0.3814461\ttotal: 5.59s\tremaining: 1.61s\n",
      "776:\tlearn: 0.3814289\ttotal: 5.59s\tremaining: 1.6s\n",
      "777:\tlearn: 0.3813956\ttotal: 5.6s\tremaining: 1.6s\n",
      "778:\tlearn: 0.3813683\ttotal: 5.61s\tremaining: 1.59s\n",
      "779:\tlearn: 0.3813373\ttotal: 5.62s\tremaining: 1.58s\n",
      "780:\tlearn: 0.3813026\ttotal: 5.62s\tremaining: 1.58s\n",
      "781:\tlearn: 0.3812754\ttotal: 5.63s\tremaining: 1.57s\n",
      "782:\tlearn: 0.3812519\ttotal: 5.64s\tremaining: 1.56s\n",
      "783:\tlearn: 0.3812189\ttotal: 5.64s\tremaining: 1.55s\n",
      "784:\tlearn: 0.3811933\ttotal: 5.65s\tremaining: 1.55s\n",
      "785:\tlearn: 0.3811667\ttotal: 5.66s\tremaining: 1.54s\n",
      "786:\tlearn: 0.3811498\ttotal: 5.66s\tremaining: 1.53s\n",
      "787:\tlearn: 0.3811259\ttotal: 5.67s\tremaining: 1.52s\n",
      "788:\tlearn: 0.3810891\ttotal: 5.68s\tremaining: 1.52s\n",
      "789:\tlearn: 0.3810628\ttotal: 5.68s\tremaining: 1.51s\n",
      "790:\tlearn: 0.3810337\ttotal: 5.69s\tremaining: 1.5s\n",
      "791:\tlearn: 0.3810049\ttotal: 5.7s\tremaining: 1.5s\n",
      "792:\tlearn: 0.3809797\ttotal: 5.71s\tremaining: 1.49s\n",
      "793:\tlearn: 0.3809415\ttotal: 5.71s\tremaining: 1.48s\n",
      "794:\tlearn: 0.3809077\ttotal: 5.72s\tremaining: 1.48s\n",
      "795:\tlearn: 0.3808725\ttotal: 5.73s\tremaining: 1.47s\n",
      "796:\tlearn: 0.3808472\ttotal: 5.74s\tremaining: 1.46s\n",
      "797:\tlearn: 0.3808267\ttotal: 5.74s\tremaining: 1.45s\n",
      "798:\tlearn: 0.3807855\ttotal: 5.75s\tremaining: 1.45s\n",
      "799:\tlearn: 0.3807573\ttotal: 5.76s\tremaining: 1.44s\n",
      "800:\tlearn: 0.3807368\ttotal: 5.76s\tremaining: 1.43s\n",
      "801:\tlearn: 0.3806980\ttotal: 5.77s\tremaining: 1.42s\n",
      "802:\tlearn: 0.3806656\ttotal: 5.78s\tremaining: 1.42s\n",
      "803:\tlearn: 0.3806409\ttotal: 5.78s\tremaining: 1.41s\n",
      "804:\tlearn: 0.3806050\ttotal: 5.79s\tremaining: 1.4s\n",
      "805:\tlearn: 0.3805710\ttotal: 5.8s\tremaining: 1.4s\n",
      "806:\tlearn: 0.3805380\ttotal: 5.81s\tremaining: 1.39s\n",
      "807:\tlearn: 0.3805137\ttotal: 5.81s\tremaining: 1.38s\n",
      "808:\tlearn: 0.3804840\ttotal: 5.82s\tremaining: 1.37s\n",
      "809:\tlearn: 0.3804574\ttotal: 5.83s\tremaining: 1.37s\n",
      "810:\tlearn: 0.3804238\ttotal: 5.83s\tremaining: 1.36s\n",
      "811:\tlearn: 0.3803997\ttotal: 5.84s\tremaining: 1.35s\n",
      "812:\tlearn: 0.3803664\ttotal: 5.85s\tremaining: 1.34s\n",
      "813:\tlearn: 0.3803332\ttotal: 5.86s\tremaining: 1.34s\n",
      "814:\tlearn: 0.3802997\ttotal: 5.86s\tremaining: 1.33s\n",
      "815:\tlearn: 0.3802684\ttotal: 5.87s\tremaining: 1.32s\n",
      "816:\tlearn: 0.3802438\ttotal: 5.88s\tremaining: 1.32s\n",
      "817:\tlearn: 0.3802205\ttotal: 5.88s\tremaining: 1.31s\n",
      "818:\tlearn: 0.3801954\ttotal: 5.89s\tremaining: 1.3s\n",
      "819:\tlearn: 0.3801678\ttotal: 5.9s\tremaining: 1.29s\n",
      "820:\tlearn: 0.3801417\ttotal: 5.91s\tremaining: 1.29s\n",
      "821:\tlearn: 0.3801124\ttotal: 5.91s\tremaining: 1.28s\n",
      "822:\tlearn: 0.3800848\ttotal: 5.92s\tremaining: 1.27s\n",
      "823:\tlearn: 0.3800574\ttotal: 5.93s\tremaining: 1.27s\n",
      "824:\tlearn: 0.3800335\ttotal: 5.93s\tremaining: 1.26s\n",
      "825:\tlearn: 0.3799958\ttotal: 5.94s\tremaining: 1.25s\n",
      "826:\tlearn: 0.3799631\ttotal: 5.95s\tremaining: 1.24s\n",
      "827:\tlearn: 0.3799312\ttotal: 5.96s\tremaining: 1.24s\n",
      "828:\tlearn: 0.3798819\ttotal: 5.96s\tremaining: 1.23s\n",
      "829:\tlearn: 0.3798489\ttotal: 5.97s\tremaining: 1.22s\n",
      "830:\tlearn: 0.3798189\ttotal: 5.98s\tremaining: 1.22s\n",
      "831:\tlearn: 0.3797841\ttotal: 5.99s\tremaining: 1.21s\n",
      "832:\tlearn: 0.3797535\ttotal: 5.99s\tremaining: 1.2s\n",
      "833:\tlearn: 0.3797105\ttotal: 6s\tremaining: 1.19s\n",
      "834:\tlearn: 0.3796784\ttotal: 6.01s\tremaining: 1.19s\n",
      "835:\tlearn: 0.3796572\ttotal: 6.01s\tremaining: 1.18s\n",
      "836:\tlearn: 0.3796297\ttotal: 6.02s\tremaining: 1.17s\n",
      "837:\tlearn: 0.3795983\ttotal: 6.03s\tremaining: 1.17s\n",
      "838:\tlearn: 0.3795623\ttotal: 6.04s\tremaining: 1.16s\n",
      "839:\tlearn: 0.3795439\ttotal: 6.04s\tremaining: 1.15s\n",
      "840:\tlearn: 0.3795202\ttotal: 6.05s\tremaining: 1.14s\n",
      "841:\tlearn: 0.3794996\ttotal: 6.06s\tremaining: 1.14s\n",
      "842:\tlearn: 0.3794809\ttotal: 6.06s\tremaining: 1.13s\n",
      "843:\tlearn: 0.3794635\ttotal: 6.07s\tremaining: 1.12s\n",
      "844:\tlearn: 0.3794400\ttotal: 6.08s\tremaining: 1.11s\n",
      "845:\tlearn: 0.3794064\ttotal: 6.08s\tremaining: 1.11s\n",
      "846:\tlearn: 0.3793888\ttotal: 6.09s\tremaining: 1.1s\n",
      "847:\tlearn: 0.3793574\ttotal: 6.1s\tremaining: 1.09s\n",
      "848:\tlearn: 0.3793165\ttotal: 6.11s\tremaining: 1.08s\n",
      "849:\tlearn: 0.3792920\ttotal: 6.11s\tremaining: 1.08s\n",
      "850:\tlearn: 0.3792673\ttotal: 6.12s\tremaining: 1.07s\n",
      "851:\tlearn: 0.3792334\ttotal: 6.13s\tremaining: 1.06s\n",
      "852:\tlearn: 0.3792092\ttotal: 6.13s\tremaining: 1.06s\n",
      "853:\tlearn: 0.3791779\ttotal: 6.14s\tremaining: 1.05s\n",
      "854:\tlearn: 0.3791633\ttotal: 6.15s\tremaining: 1.04s\n",
      "855:\tlearn: 0.3791183\ttotal: 6.16s\tremaining: 1.03s\n",
      "856:\tlearn: 0.3790981\ttotal: 6.16s\tremaining: 1.03s\n",
      "857:\tlearn: 0.3790773\ttotal: 6.17s\tremaining: 1.02s\n",
      "858:\tlearn: 0.3790466\ttotal: 6.18s\tremaining: 1.01s\n",
      "859:\tlearn: 0.3790147\ttotal: 6.18s\tremaining: 1.01s\n",
      "860:\tlearn: 0.3789872\ttotal: 6.19s\tremaining: 999ms\n",
      "861:\tlearn: 0.3789470\ttotal: 6.2s\tremaining: 992ms\n",
      "862:\tlearn: 0.3789237\ttotal: 6.2s\tremaining: 985ms\n",
      "863:\tlearn: 0.3789038\ttotal: 6.21s\tremaining: 978ms\n",
      "864:\tlearn: 0.3788736\ttotal: 6.22s\tremaining: 971ms\n",
      "865:\tlearn: 0.3788510\ttotal: 6.23s\tremaining: 963ms\n",
      "866:\tlearn: 0.3788251\ttotal: 6.23s\tremaining: 956ms\n",
      "867:\tlearn: 0.3787924\ttotal: 6.24s\tremaining: 949ms\n",
      "868:\tlearn: 0.3787723\ttotal: 6.25s\tremaining: 942ms\n",
      "869:\tlearn: 0.3787513\ttotal: 6.26s\tremaining: 935ms\n",
      "870:\tlearn: 0.3787266\ttotal: 6.26s\tremaining: 928ms\n",
      "871:\tlearn: 0.3786849\ttotal: 6.27s\tremaining: 920ms\n",
      "872:\tlearn: 0.3786536\ttotal: 6.28s\tremaining: 913ms\n",
      "873:\tlearn: 0.3786244\ttotal: 6.29s\tremaining: 906ms\n",
      "874:\tlearn: 0.3785905\ttotal: 6.29s\tremaining: 899ms\n",
      "875:\tlearn: 0.3785620\ttotal: 6.3s\tremaining: 892ms\n",
      "876:\tlearn: 0.3785411\ttotal: 6.31s\tremaining: 885ms\n",
      "877:\tlearn: 0.3785163\ttotal: 6.31s\tremaining: 877ms\n",
      "878:\tlearn: 0.3784964\ttotal: 6.32s\tremaining: 870ms\n",
      "879:\tlearn: 0.3784756\ttotal: 6.33s\tremaining: 863ms\n",
      "880:\tlearn: 0.3784455\ttotal: 6.33s\tremaining: 856ms\n",
      "881:\tlearn: 0.3784256\ttotal: 6.34s\tremaining: 848ms\n",
      "882:\tlearn: 0.3784074\ttotal: 6.35s\tremaining: 841ms\n",
      "883:\tlearn: 0.3783739\ttotal: 6.36s\tremaining: 834ms\n",
      "884:\tlearn: 0.3783458\ttotal: 6.36s\tremaining: 827ms\n",
      "885:\tlearn: 0.3783197\ttotal: 6.37s\tremaining: 820ms\n",
      "886:\tlearn: 0.3782875\ttotal: 6.38s\tremaining: 812ms\n",
      "887:\tlearn: 0.3782518\ttotal: 6.38s\tremaining: 805ms\n",
      "888:\tlearn: 0.3782308\ttotal: 6.39s\tremaining: 798ms\n",
      "889:\tlearn: 0.3782009\ttotal: 6.4s\tremaining: 791ms\n",
      "890:\tlearn: 0.3781696\ttotal: 6.4s\tremaining: 783ms\n",
      "891:\tlearn: 0.3781310\ttotal: 6.41s\tremaining: 776ms\n",
      "892:\tlearn: 0.3781077\ttotal: 6.42s\tremaining: 769ms\n",
      "893:\tlearn: 0.3780845\ttotal: 6.43s\tremaining: 762ms\n",
      "894:\tlearn: 0.3780655\ttotal: 6.43s\tremaining: 755ms\n",
      "895:\tlearn: 0.3780455\ttotal: 6.44s\tremaining: 748ms\n",
      "896:\tlearn: 0.3780207\ttotal: 6.45s\tremaining: 740ms\n",
      "897:\tlearn: 0.3780007\ttotal: 6.45s\tremaining: 733ms\n",
      "898:\tlearn: 0.3779682\ttotal: 6.46s\tremaining: 726ms\n",
      "899:\tlearn: 0.3779399\ttotal: 6.47s\tremaining: 719ms\n",
      "900:\tlearn: 0.3779070\ttotal: 6.48s\tremaining: 712ms\n",
      "901:\tlearn: 0.3778720\ttotal: 6.48s\tremaining: 704ms\n",
      "902:\tlearn: 0.3778373\ttotal: 6.49s\tremaining: 697ms\n",
      "903:\tlearn: 0.3778087\ttotal: 6.5s\tremaining: 690ms\n",
      "904:\tlearn: 0.3777858\ttotal: 6.5s\tremaining: 683ms\n",
      "905:\tlearn: 0.3777506\ttotal: 6.51s\tremaining: 676ms\n",
      "906:\tlearn: 0.3777125\ttotal: 6.52s\tremaining: 668ms\n",
      "907:\tlearn: 0.3776781\ttotal: 6.53s\tremaining: 661ms\n",
      "908:\tlearn: 0.3776505\ttotal: 6.53s\tremaining: 654ms\n",
      "909:\tlearn: 0.3776224\ttotal: 6.54s\tremaining: 647ms\n",
      "910:\tlearn: 0.3775963\ttotal: 6.55s\tremaining: 640ms\n",
      "911:\tlearn: 0.3775721\ttotal: 6.55s\tremaining: 633ms\n",
      "912:\tlearn: 0.3775530\ttotal: 6.56s\tremaining: 625ms\n",
      "913:\tlearn: 0.3775208\ttotal: 6.57s\tremaining: 618ms\n",
      "914:\tlearn: 0.3774999\ttotal: 6.58s\tremaining: 611ms\n",
      "915:\tlearn: 0.3774685\ttotal: 6.58s\tremaining: 604ms\n",
      "916:\tlearn: 0.3774442\ttotal: 6.59s\tremaining: 597ms\n",
      "917:\tlearn: 0.3774086\ttotal: 6.6s\tremaining: 589ms\n",
      "918:\tlearn: 0.3773731\ttotal: 6.6s\tremaining: 582ms\n",
      "919:\tlearn: 0.3773461\ttotal: 6.61s\tremaining: 575ms\n",
      "920:\tlearn: 0.3773128\ttotal: 6.62s\tremaining: 568ms\n",
      "921:\tlearn: 0.3772907\ttotal: 6.63s\tremaining: 561ms\n",
      "922:\tlearn: 0.3772538\ttotal: 6.63s\tremaining: 553ms\n",
      "923:\tlearn: 0.3772106\ttotal: 6.64s\tremaining: 546ms\n",
      "924:\tlearn: 0.3771801\ttotal: 6.65s\tremaining: 539ms\n",
      "925:\tlearn: 0.3771525\ttotal: 6.66s\tremaining: 532ms\n",
      "926:\tlearn: 0.3771208\ttotal: 6.66s\tremaining: 525ms\n",
      "927:\tlearn: 0.3770994\ttotal: 6.67s\tremaining: 517ms\n",
      "928:\tlearn: 0.3770755\ttotal: 6.68s\tremaining: 510ms\n",
      "929:\tlearn: 0.3770473\ttotal: 6.68s\tremaining: 503ms\n",
      "930:\tlearn: 0.3770252\ttotal: 6.69s\tremaining: 496ms\n",
      "931:\tlearn: 0.3769936\ttotal: 6.7s\tremaining: 489ms\n",
      "932:\tlearn: 0.3769557\ttotal: 6.7s\tremaining: 481ms\n",
      "933:\tlearn: 0.3769313\ttotal: 6.71s\tremaining: 474ms\n",
      "934:\tlearn: 0.3769114\ttotal: 6.72s\tremaining: 467ms\n",
      "935:\tlearn: 0.3768853\ttotal: 6.72s\tremaining: 460ms\n",
      "936:\tlearn: 0.3768711\ttotal: 6.73s\tremaining: 453ms\n",
      "937:\tlearn: 0.3768447\ttotal: 6.74s\tremaining: 445ms\n",
      "938:\tlearn: 0.3768177\ttotal: 6.75s\tremaining: 438ms\n",
      "939:\tlearn: 0.3767882\ttotal: 6.75s\tremaining: 431ms\n",
      "940:\tlearn: 0.3767548\ttotal: 6.76s\tremaining: 424ms\n",
      "941:\tlearn: 0.3767404\ttotal: 6.77s\tremaining: 417ms\n",
      "942:\tlearn: 0.3767226\ttotal: 6.78s\tremaining: 410ms\n",
      "943:\tlearn: 0.3766965\ttotal: 6.78s\tremaining: 402ms\n",
      "944:\tlearn: 0.3766654\ttotal: 6.79s\tremaining: 395ms\n",
      "945:\tlearn: 0.3766417\ttotal: 6.79s\tremaining: 388ms\n",
      "946:\tlearn: 0.3765955\ttotal: 6.8s\tremaining: 381ms\n",
      "947:\tlearn: 0.3765754\ttotal: 6.81s\tremaining: 374ms\n",
      "948:\tlearn: 0.3765304\ttotal: 6.82s\tremaining: 366ms\n",
      "949:\tlearn: 0.3764915\ttotal: 6.82s\tremaining: 359ms\n",
      "950:\tlearn: 0.3764758\ttotal: 6.83s\tremaining: 352ms\n",
      "951:\tlearn: 0.3764520\ttotal: 6.84s\tremaining: 345ms\n",
      "952:\tlearn: 0.3764254\ttotal: 6.84s\tremaining: 338ms\n",
      "953:\tlearn: 0.3764078\ttotal: 6.85s\tremaining: 330ms\n",
      "954:\tlearn: 0.3763754\ttotal: 6.86s\tremaining: 323ms\n",
      "955:\tlearn: 0.3763482\ttotal: 6.87s\tremaining: 316ms\n",
      "956:\tlearn: 0.3763261\ttotal: 6.87s\tremaining: 309ms\n",
      "957:\tlearn: 0.3762894\ttotal: 6.88s\tremaining: 302ms\n",
      "958:\tlearn: 0.3762645\ttotal: 6.89s\tremaining: 295ms\n",
      "959:\tlearn: 0.3762293\ttotal: 6.89s\tremaining: 287ms\n",
      "960:\tlearn: 0.3762060\ttotal: 6.9s\tremaining: 280ms\n",
      "961:\tlearn: 0.3761875\ttotal: 6.91s\tremaining: 273ms\n",
      "962:\tlearn: 0.3761677\ttotal: 6.92s\tremaining: 266ms\n",
      "963:\tlearn: 0.3761398\ttotal: 6.92s\tremaining: 259ms\n",
      "964:\tlearn: 0.3761248\ttotal: 6.93s\tremaining: 251ms\n",
      "965:\tlearn: 0.3760882\ttotal: 6.94s\tremaining: 244ms\n",
      "966:\tlearn: 0.3760609\ttotal: 6.95s\tremaining: 237ms\n",
      "967:\tlearn: 0.3760428\ttotal: 6.95s\tremaining: 230ms\n",
      "968:\tlearn: 0.3760226\ttotal: 6.96s\tremaining: 223ms\n",
      "969:\tlearn: 0.3759943\ttotal: 6.97s\tremaining: 216ms\n",
      "970:\tlearn: 0.3759707\ttotal: 6.97s\tremaining: 208ms\n",
      "971:\tlearn: 0.3759443\ttotal: 6.98s\tremaining: 201ms\n",
      "972:\tlearn: 0.3759164\ttotal: 6.99s\tremaining: 194ms\n",
      "973:\tlearn: 0.3758926\ttotal: 7s\tremaining: 187ms\n",
      "974:\tlearn: 0.3758690\ttotal: 7s\tremaining: 180ms\n",
      "975:\tlearn: 0.3758434\ttotal: 7.01s\tremaining: 172ms\n",
      "976:\tlearn: 0.3758211\ttotal: 7.02s\tremaining: 165ms\n",
      "977:\tlearn: 0.3757837\ttotal: 7.03s\tremaining: 158ms\n",
      "978:\tlearn: 0.3757442\ttotal: 7.03s\tremaining: 151ms\n",
      "979:\tlearn: 0.3757173\ttotal: 7.04s\tremaining: 144ms\n",
      "980:\tlearn: 0.3757009\ttotal: 7.05s\tremaining: 136ms\n",
      "981:\tlearn: 0.3756760\ttotal: 7.05s\tremaining: 129ms\n",
      "982:\tlearn: 0.3756581\ttotal: 7.06s\tremaining: 122ms\n",
      "983:\tlearn: 0.3756312\ttotal: 7.07s\tremaining: 115ms\n",
      "984:\tlearn: 0.3756072\ttotal: 7.08s\tremaining: 108ms\n",
      "985:\tlearn: 0.3755788\ttotal: 7.08s\tremaining: 101ms\n",
      "986:\tlearn: 0.3755466\ttotal: 7.09s\tremaining: 93.4ms\n",
      "987:\tlearn: 0.3755170\ttotal: 7.1s\tremaining: 86.2ms\n",
      "988:\tlearn: 0.3754914\ttotal: 7.1s\tremaining: 79ms\n",
      "989:\tlearn: 0.3754641\ttotal: 7.11s\tremaining: 71.8ms\n",
      "990:\tlearn: 0.3754315\ttotal: 7.12s\tremaining: 64.6ms\n",
      "991:\tlearn: 0.3754098\ttotal: 7.13s\tremaining: 57.5ms\n",
      "992:\tlearn: 0.3753853\ttotal: 7.13s\tremaining: 50.3ms\n",
      "993:\tlearn: 0.3753514\ttotal: 7.14s\tremaining: 43.1ms\n",
      "994:\tlearn: 0.3753264\ttotal: 7.15s\tremaining: 35.9ms\n",
      "995:\tlearn: 0.3752911\ttotal: 7.15s\tremaining: 28.7ms\n",
      "996:\tlearn: 0.3752627\ttotal: 7.16s\tremaining: 21.6ms\n",
      "997:\tlearn: 0.3752344\ttotal: 7.17s\tremaining: 14.4ms\n",
      "998:\tlearn: 0.3752135\ttotal: 7.18s\tremaining: 7.18ms\n",
      "999:\tlearn: 0.3751847\ttotal: 7.18s\tremaining: 0us\n",
      "CPU times: user 1min 31s, sys: 10.3 s, total: 1min 42s\n",
      "Wall time: 7.49 s\n"
     ]
    },
    {
     "data": {
      "text/plain": [
       "<catboost.core.CatBoostClassifier at 0x7fd1aff84400>"
      ]
     },
     "execution_count": 39,
     "metadata": {},
     "output_type": "execute_result"
    }
   ],
   "source": [
    "%%time\n",
    "clf.fit(X_train,y_train)"
   ]
  },
  {
   "cell_type": "code",
   "execution_count": 40,
   "id": "ccc0abae-1c34-4875-8ac7-afcf0efc59f6",
   "metadata": {
    "tags": []
   },
   "outputs": [],
   "source": [
    "predicted_proba = clf.predict_proba(X_test)"
   ]
  },
  {
   "cell_type": "code",
   "execution_count": 41,
   "id": "dc22874c-b490-4700-ba5d-f08b5d462f36",
   "metadata": {
    "tags": []
   },
   "outputs": [],
   "source": [
    "prob_flood = pd.DataFrame(predicted_proba)[1]"
   ]
  },
  {
   "cell_type": "code",
   "execution_count": 42,
   "id": "89e88351-31b0-4828-8629-362a96e30a91",
   "metadata": {
    "tags": []
   },
   "outputs": [
    {
     "name": "stdout",
     "output_type": "stream",
     "text": [
      "0.8935579173198855\n"
     ]
    }
   ],
   "source": [
    "auc = metrics.roc_auc_score(y_test, prob_flood)\n",
    "print(auc)"
   ]
  },
  {
   "cell_type": "code",
   "execution_count": 44,
   "id": "82ecb10b-6f5c-4ac3-8d8e-061e006c0676",
   "metadata": {
    "tags": []
   },
   "outputs": [
    {
     "data": {
      "image/png": "[encoded data removed]",
      "text/plain": [
       "<Figure size 640x480 with 1 Axes>"
      ]
     },
     "metadata": {},
     "output_type": "display_data"
    }
   ],
   "source": [
    "feat_importances = pd.Series(clf.feature_importances_, index=X_train.columns)\n",
    "feat_importances.nlargest(15).plot(kind='barh')\n",
    "plt.title(\"Feature Importance\")\n",
    "plt.show()"
   ]
  },
  {
   "cell_type": "code",
   "execution_count": 78,
   "id": "92949f2e-4b23-4ca9-b20e-67f14149cee0",
   "metadata": {},
   "outputs": [
    {
     "name": "stdout",
     "output_type": "stream",
     "text": [
      "[NbConvertApp] Converting notebook Model_Enhancement.ipynb to python\n",
      "[NbConvertApp] Writing 10969 bytes to Model_Enhancement.py\n"
     ]
    }
   ],
   "source": [
    "!jupyter nbconvert Model_Enhancement.ipynb --to python"
   ]
  },
  {
   "cell_type": "code",
   "execution_count": null,
   "id": "f7214113-745c-46b6-8356-3393624affad",
   "metadata": {},
   "outputs": [],
   "source": []
  }
 ],
 "metadata": {
  "availableInstances": [
   {
    "_defaultOrder": 0,
    "_isFastLaunch": true,
    "category": "General purpose",
    "gpuNum": 0,
    "hideHardwareSpecs": false,
    "memoryGiB": 4,
    "name": "ml.t3.medium",
    "vcpuNum": 2
   },
   {
    "_defaultOrder": 1,
    "_isFastLaunch": false,
    "category": "General purpose",
    "gpuNum": 0,
    "hideHardwareSpecs": false,
    "memoryGiB": 8,
    "name": "ml.t3.large",
    "vcpuNum": 2
   },
   {
    "_defaultOrder": 2,
    "_isFastLaunch": false,
    "category": "General purpose",
    "gpuNum": 0,
    "hideHardwareSpecs": false,
    "memoryGiB": 16,
    "name": "ml.t3.xlarge",
    "vcpuNum": 4
   },
   {
    "_defaultOrder": 3,
    "_isFastLaunch": false,
    "category": "General purpose",
    "gpuNum": 0,
    "hideHardwareSpecs": false,
    "memoryGiB": 32,
    "name": "ml.t3.2xlarge",
    "vcpuNum": 8
   },
   {
    "_defaultOrder": 4,
    "_isFastLaunch": true,
    "category": "General purpose",
    "gpuNum": 0,
    "hideHardwareSpecs": false,
    "memoryGiB": 8,
    "name": "ml.m5.large",
    "vcpuNum": 2
   },
   {
    "_defaultOrder": 5,
    "_isFastLaunch": false,
    "category": "General purpose",
    "gpuNum": 0,
    "hideHardwareSpecs": false,
    "memoryGiB": 16,
    "name": "ml.m5.xlarge",
    "vcpuNum": 4
   },
   {
    "_defaultOrder": 6,
    "_isFastLaunch": false,
    "category": "General purpose",
    "gpuNum": 0,
    "hideHardwareSpecs": false,
    "memoryGiB": 32,
    "name": "ml.m5.2xlarge",
    "vcpuNum": 8
   },
   {
    "_defaultOrder": 7,
    "_isFastLaunch": false,
    "category": "General purpose",
    "gpuNum": 0,
    "hideHardwareSpecs": false,
    "memoryGiB": 64,
    "name": "ml.m5.4xlarge",
    "vcpuNum": 16
   },
   {
    "_defaultOrder": 8,
    "_isFastLaunch": false,
    "category": "General purpose",
    "gpuNum": 0,
    "hideHardwareSpecs": false,
    "memoryGiB": 128,
    "name": "ml.m5.8xlarge",
    "vcpuNum": 32
   },
   {
    "_defaultOrder": 9,
    "_isFastLaunch": false,
    "category": "General purpose",
    "gpuNum": 0,
    "hideHardwareSpecs": false,
    "memoryGiB": 192,
    "name": "ml.m5.12xlarge",
    "vcpuNum": 48
   },
   {
    "_defaultOrder": 10,
    "_isFastLaunch": false,
    "category": "General purpose",
    "gpuNum": 0,
    "hideHardwareSpecs": false,
    "memoryGiB": 256,
    "name": "ml.m5.16xlarge",
    "vcpuNum": 64
   },
   {
    "_defaultOrder": 11,
    "_isFastLaunch": false,
    "category": "General purpose",
    "gpuNum": 0,
    "hideHardwareSpecs": false,
    "memoryGiB": 384,
    "name": "ml.m5.24xlarge",
    "vcpuNum": 96
   },
   {
    "_defaultOrder": 12,
    "_isFastLaunch": false,
    "category": "General purpose",
    "gpuNum": 0,
    "hideHardwareSpecs": false,
    "memoryGiB": 8,
    "name": "ml.m5d.large",
    "vcpuNum": 2
   },
   {
    "_defaultOrder": 13,
    "_isFastLaunch": false,
    "category": "General purpose",
    "gpuNum": 0,
    "hideHardwareSpecs": false,
    "memoryGiB": 16,
    "name": "ml.m5d.xlarge",
    "vcpuNum": 4
   },
   {
    "_defaultOrder": 14,
    "_isFastLaunch": false,
    "category": "General purpose",
    "gpuNum": 0,
    "hideHardwareSpecs": false,
    "memoryGiB": 32,
    "name": "ml.m5d.2xlarge",
    "vcpuNum": 8
   },
   {
    "_defaultOrder": 15,
    "_isFastLaunch": false,
    "category": "General purpose",
    "gpuNum": 0,
    "hideHardwareSpecs": false,
    "memoryGiB": 64,
    "name": "ml.m5d.4xlarge",
    "vcpuNum": 16
   },
   {
    "_defaultOrder": 16,
    "_isFastLaunch": false,
    "category": "General purpose",
    "gpuNum": 0,
    "hideHardwareSpecs": false,
    "memoryGiB": 128,
    "name": "ml.m5d.8xlarge",
    "vcpuNum": 32
   },
   {
    "_defaultOrder": 17,
    "_isFastLaunch": false,
    "category": "General purpose",
    "gpuNum": 0,
    "hideHardwareSpecs": false,
    "memoryGiB": 192,
    "name": "ml.m5d.12xlarge",
    "vcpuNum": 48
   },
   {
    "_defaultOrder": 18,
    "_isFastLaunch": false,
    "category": "General purpose",
    "gpuNum": 0,
    "hideHardwareSpecs": false,
    "memoryGiB": 256,
    "name": "ml.m5d.16xlarge",
    "vcpuNum": 64
   },
   {
    "_defaultOrder": 19,
    "_isFastLaunch": false,
    "category": "General purpose",
    "gpuNum": 0,
    "hideHardwareSpecs": false,
    "memoryGiB": 384,
    "name": "ml.m5d.24xlarge",
    "vcpuNum": 96
   },
   {
    "_defaultOrder": 20,
    "_isFastLaunch": false,
    "category": "General purpose",
    "gpuNum": 0,
    "hideHardwareSpecs": true,
    "memoryGiB": 0,
    "name": "ml.geospatial.interactive",
    "supportedImageNames": [
     "sagemaker-geospatial-v1-0"
    ],
    "vcpuNum": 0
   },
   {
    "_defaultOrder": 21,
    "_isFastLaunch": true,
    "category": "Compute optimized",
    "gpuNum": 0,
    "hideHardwareSpecs": false,
    "memoryGiB": 4,
    "name": "ml.c5.large",
    "vcpuNum": 2
   },
   {
    "_defaultOrder": 22,
    "_isFastLaunch": false,
    "category": "Compute optimized",
    "gpuNum": 0,
    "hideHardwareSpecs": false,
    "memoryGiB": 8,
    "name": "ml.c5.xlarge",
    "vcpuNum": 4
   },
   {
    "_defaultOrder": 23,
    "_isFastLaunch": false,
    "category": "Compute optimized",
    "gpuNum": 0,
    "hideHardwareSpecs": false,
    "memoryGiB": 16,
    "name": "ml.c5.2xlarge",
    "vcpuNum": 8
   },
   {
    "_defaultOrder": 24,
    "_isFastLaunch": false,
    "category": "Compute optimized",
    "gpuNum": 0,
    "hideHardwareSpecs": false,
    "memoryGiB": 32,
    "name": "ml.c5.4xlarge",
    "vcpuNum": 16
   },
   {
    "_defaultOrder": 25,
    "_isFastLaunch": false,
    "category": "Compute optimized",
    "gpuNum": 0,
    "hideHardwareSpecs": false,
    "memoryGiB": 72,
    "name": "ml.c5.9xlarge",
    "vcpuNum": 36
   },
   {
    "_defaultOrder": 26,
    "_isFastLaunch": false,
    "category": "Compute optimized",
    "gpuNum": 0,
    "hideHardwareSpecs": false,
    "memoryGiB": 96,
    "name": "ml.c5.12xlarge",
    "vcpuNum": 48
   },
   {
    "_defaultOrder": 27,
    "_isFastLaunch": false,
    "category": "Compute optimized",
    "gpuNum": 0,
    "hideHardwareSpecs": false,
    "memoryGiB": 144,
    "name": "ml.c5.18xlarge",
    "vcpuNum": 72
   },
   {
    "_defaultOrder": 28,
    "_isFastLaunch": false,
    "category": "Compute optimized",
    "gpuNum": 0,
    "hideHardwareSpecs": false,
    "memoryGiB": 192,
    "name": "ml.c5.24xlarge",
    "vcpuNum": 96
   },
   {
    "_defaultOrder": 29,
    "_isFastLaunch": true,
    "category": "Accelerated computing",
    "gpuNum": 1,
    "hideHardwareSpecs": false,
    "memoryGiB": 16,
    "name": "ml.g4dn.xlarge",
    "vcpuNum": 4
   },
   {
    "_defaultOrder": 30,
    "_isFastLaunch": false,
    "category": "Accelerated computing",
    "gpuNum": 1,
    "hideHardwareSpecs": false,
    "memoryGiB": 32,
    "name": "ml.g4dn.2xlarge",
    "vcpuNum": 8
   },
   {
    "_defaultOrder": 31,
    "_isFastLaunch": false,
    "category": "Accelerated computing",
    "gpuNum": 1,
    "hideHardwareSpecs": false,
    "memoryGiB": 64,
    "name": "ml.g4dn.4xlarge",
    "vcpuNum": 16
   },
   {
    "_defaultOrder": 32,
    "_isFastLaunch": false,
    "category": "Accelerated computing",
    "gpuNum": 1,
    "hideHardwareSpecs": false,
    "memoryGiB": 128,
    "name": "ml.g4dn.8xlarge",
    "vcpuNum": 32
   },
   {
    "_defaultOrder": 33,
    "_isFastLaunch": false,
    "category": "Accelerated computing",
    "gpuNum": 4,
    "hideHardwareSpecs": false,
    "memoryGiB": 192,
    "name": "ml.g4dn.12xlarge",
    "vcpuNum": 48
   },
   {
    "_defaultOrder": 34,
    "_isFastLaunch": false,
    "category": "Accelerated computing",
    "gpuNum": 1,
    "hideHardwareSpecs": false,
    "memoryGiB": 256,
    "name": "ml.g4dn.16xlarge",
    "vcpuNum": 64
   },
   {
    "_defaultOrder": 35,
    "_isFastLaunch": false,
    "category": "Accelerated computing",
    "gpuNum": 1,
    "hideHardwareSpecs": false,
    "memoryGiB": 61,
    "name": "ml.p3.2xlarge",
    "vcpuNum": 8
   },
   {
    "_defaultOrder": 36,
    "_isFastLaunch": false,
    "category": "Accelerated computing",
    "gpuNum": 4,
    "hideHardwareSpecs": false,
    "memoryGiB": 244,
    "name": "ml.p3.8xlarge",
    "vcpuNum": 32
   },
   {
    "_defaultOrder": 37,
    "_isFastLaunch": false,
    "category": "Accelerated computing",
    "gpuNum": 8,
    "hideHardwareSpecs": false,
    "memoryGiB": 488,
    "name": "ml.p3.16xlarge",
    "vcpuNum": 64
   },
   {
    "_defaultOrder": 38,
    "_isFastLaunch": false,
    "category": "Accelerated computing",
    "gpuNum": 8,
    "hideHardwareSpecs": false,
    "memoryGiB": 768,
    "name": "ml.p3dn.24xlarge",
    "vcpuNum": 96
   },
   {
    "_defaultOrder": 39,
    "_isFastLaunch": false,
    "category": "Memory Optimized",
    "gpuNum": 0,
    "hideHardwareSpecs": false,
    "memoryGiB": 16,
    "name": "ml.r5.large",
    "vcpuNum": 2
   },
   {
    "_defaultOrder": 40,
    "_isFastLaunch": false,
    "category": "Memory Optimized",
    "gpuNum": 0,
    "hideHardwareSpecs": false,
    "memoryGiB": 32,
    "name": "ml.r5.xlarge",
    "vcpuNum": 4
   },
   {
    "_defaultOrder": 41,
    "_isFastLaunch": false,
    "category": "Memory Optimized",
    "gpuNum": 0,
    "hideHardwareSpecs": false,
    "memoryGiB": 64,
    "name": "ml.r5.2xlarge",
    "vcpuNum": 8
   },
   {
    "_defaultOrder": 42,
    "_isFastLaunch": false,
    "category": "Memory Optimized",
    "gpuNum": 0,
    "hideHardwareSpecs": false,
    "memoryGiB": 128,
    "name": "ml.r5.4xlarge",
    "vcpuNum": 16
   },
   {
    "_defaultOrder": 43,
    "_isFastLaunch": false,
    "category": "Memory Optimized",
    "gpuNum": 0,
    "hideHardwareSpecs": false,
    "memoryGiB": 256,
    "name": "ml.r5.8xlarge",
    "vcpuNum": 32
   },
   {
    "_defaultOrder": 44,
    "_isFastLaunch": false,
    "category": "Memory Optimized",
    "gpuNum": 0,
    "hideHardwareSpecs": false,
    "memoryGiB": 384,
    "name": "ml.r5.12xlarge",
    "vcpuNum": 48
   },
   {
    "_defaultOrder": 45,
    "_isFastLaunch": false,
    "category": "Memory Optimized",
    "gpuNum": 0,
    "hideHardwareSpecs": false,
    "memoryGiB": 512,
    "name": "ml.r5.16xlarge",
    "vcpuNum": 64
   },
   {
    "_defaultOrder": 46,
    "_isFastLaunch": false,
    "category": "Memory Optimized",
    "gpuNum": 0,
    "hideHardwareSpecs": false,
    "memoryGiB": 768,
    "name": "ml.r5.24xlarge",
    "vcpuNum": 96
   },
   {
    "_defaultOrder": 47,
    "_isFastLaunch": false,
    "category": "Accelerated computing",
    "gpuNum": 1,
    "hideHardwareSpecs": false,
    "memoryGiB": 16,
    "name": "ml.g5.xlarge",
    "vcpuNum": 4
   },
   {
    "_defaultOrder": 48,
    "_isFastLaunch": false,
    "category": "Accelerated computing",
    "gpuNum": 1,
    "hideHardwareSpecs": false,
    "memoryGiB": 32,
    "name": "ml.g5.2xlarge",
    "vcpuNum": 8
   },
   {
    "_defaultOrder": 49,
    "_isFastLaunch": false,
    "category": "Accelerated computing",
    "gpuNum": 1,
    "hideHardwareSpecs": false,
    "memoryGiB": 64,
    "name": "ml.g5.4xlarge",
    "vcpuNum": 16
   },
   {
    "_defaultOrder": 50,
    "_isFastLaunch": false,
    "category": "Accelerated computing",
    "gpuNum": 1,
    "hideHardwareSpecs": false,
    "memoryGiB": 128,
    "name": "ml.g5.8xlarge",
    "vcpuNum": 32
   },
   {
    "_defaultOrder": 51,
    "_isFastLaunch": false,
    "category": "Accelerated computing",
    "gpuNum": 1,
    "hideHardwareSpecs": false,
    "memoryGiB": 256,
    "name": "ml.g5.16xlarge",
    "vcpuNum": 64
   },
   {
    "_defaultOrder": 52,
    "_isFastLaunch": false,
    "category": "Accelerated computing",
    "gpuNum": 4,
    "hideHardwareSpecs": false,
    "memoryGiB": 192,
    "name": "ml.g5.12xlarge",
    "vcpuNum": 48
   },
   {
    "_defaultOrder": 53,
    "_isFastLaunch": false,
    "category": "Accelerated computing",
    "gpuNum": 4,
    "hideHardwareSpecs": false,
    "memoryGiB": 384,
    "name": "ml.g5.24xlarge",
    "vcpuNum": 96
   },
   {
    "_defaultOrder": 54,
    "_isFastLaunch": false,
    "category": "Accelerated computing",
    "gpuNum": 8,
    "hideHardwareSpecs": false,
    "memoryGiB": 768,
    "name": "ml.g5.48xlarge",
    "vcpuNum": 192
   },
   {
    "_defaultOrder": 55,
    "_isFastLaunch": false,
    "category": "Accelerated computing",
    "gpuNum": 8,
    "hideHardwareSpecs": false,
    "memoryGiB": 1152,
    "name": "ml.p4d.24xlarge",
    "vcpuNum": 96
   },
   {
    "_defaultOrder": 56,
    "_isFastLaunch": false,
    "category": "Accelerated computing",
    "gpuNum": 8,
    "hideHardwareSpecs": false,
    "memoryGiB": 1152,
    "name": "ml.p4de.24xlarge",
    "vcpuNum": 96
   }
  ],
  "instance_type": "ml.m5.4xlarge",
  "kernelspec": {
   "display_name": "Python 3 (Data Science 3.0)",
   "language": "python",
   "name": "python3__SAGEMAKER_INTERNAL__arn:aws:sagemaker:us-east-1:081325390199:image/sagemaker-data-science-310-v1"
  },
  "language_info": {
   "codemirror_mode": {
    "name": "ipython",
    "version": 3
   },
   "file_extension": ".py",
   "mimetype": "text/x-python",
   "name": "python",
   "nbconvert_exporter": "python",
   "pygments_lexer": "ipython3",
   "version": "3.10.6"
  }
 },
 "nbformat": 4,
 "nbformat_minor": 5
}
